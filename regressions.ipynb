{
 "cells": [
  {
   "cell_type": "code",
   "execution_count": 33,
   "metadata": {
    "pycharm": {
     "is_executing": false
    }
   },
   "outputs": [],
   "source": [
    "import pandas as pd\n",
    "from sklearn import model_selection, linear_model, svm, preprocessing, ensemble, feature_selection\n",
    "import matplotlib.pyplot as plt"
   ]
  },
  {
   "cell_type": "markdown",
   "source": [
    "## Load the dataset"
   ],
   "metadata": {
    "collapsed": false,
    "pycharm": {
     "name": "#%% md\n"
    }
   }
  },
  {
   "cell_type": "code",
   "execution_count": 34,
   "outputs": [],
   "source": [
    "input_file = \"data.csv\"\n",
    "df = pd.read_csv(input_file, header = 0)"
   ],
   "metadata": {
    "collapsed": false,
    "pycharm": {
     "name": "#%%\n",
     "is_executing": false
    }
   }
  },
  {
   "cell_type": "markdown",
   "source": [
    "### Split into input (X) and output (y) variables"
   ],
   "metadata": {
    "collapsed": false,
    "pycharm": {
     "name": "#%% md\n",
     "is_executing": false
    }
   }
  },
  {
   "cell_type": "code",
   "execution_count": 35,
   "outputs": [],
   "source": [
    "dataset = df.values\n",
    "X = dataset[:,1:7]\n",
    "y = dataset[:,7]\n",
    "y = y.astype('int')"
   ],
   "metadata": {
    "collapsed": false,
    "pycharm": {
     "name": "#%%\n",
     "is_executing": false
    }
   }
  },
  {
   "cell_type": "code",
   "execution_count": 36,
   "outputs": [],
   "source": [
    "#clf = ensemble.ExtraTreesClassifier(n_estimators=50, random_state=1)\n",
    "#clf = clf.fit(X, y)\n",
    "#model = feature_selection.SelectFromModel(clf, prefit=True)\n",
    "#X = model.transform(X)"
   ],
   "metadata": {
    "collapsed": false,
    "pycharm": {
     "name": "#%%\n",
     "is_executing": false
    }
   }
  },
  {
   "cell_type": "code",
   "execution_count": 37,
   "outputs": [],
   "source": [
    "scaler = preprocessing.MinMaxScaler()\n",
    "scaler.fit(X)\n",
    "X_std = scaler.transform(X)"
   ],
   "metadata": {
    "collapsed": false,
    "pycharm": {
     "name": "#%%\n",
     "is_executing": false
    }
   }
  },
  {
   "cell_type": "markdown",
   "source": [
    "## Testing for best model"
   ],
   "metadata": {
    "collapsed": false,
    "pycharm": {
     "name": "#%% md\n"
    }
   }
  },
  {
   "cell_type": "code",
   "execution_count": 38,
   "outputs": [
    {
     "name": "stderr",
     "text": [
      "c:\\users\\dgilmarn\\pycharmprojects\\mlearn\\venv\\lib\\site-packages\\sklearn\\linear_model\\logistic.py:432: FutureWarning: Default solver will be changed to 'lbfgs' in 0.22. Specify a solver to silence this warning.\n  FutureWarning)\nc:\\users\\dgilmarn\\pycharmprojects\\mlearn\\venv\\lib\\site-packages\\sklearn\\linear_model\\logistic.py:432: FutureWarning: Default solver will be changed to 'lbfgs' in 0.22. Specify a solver to silence this warning.\n  FutureWarning)\nc:\\users\\dgilmarn\\pycharmprojects\\mlearn\\venv\\lib\\site-packages\\sklearn\\linear_model\\logistic.py:432: FutureWarning: Default solver will be changed to 'lbfgs' in 0.22. Specify a solver to silence this warning.\n  FutureWarning)\nc:\\users\\dgilmarn\\pycharmprojects\\mlearn\\venv\\lib\\site-packages\\sklearn\\linear_model\\logistic.py:432: FutureWarning: Default solver will be changed to 'lbfgs' in 0.22. Specify a solver to silence this warning.\n  FutureWarning)\nc:\\users\\dgilmarn\\pycharmprojects\\mlearn\\venv\\lib\\site-packages\\sklearn\\linear_model\\logistic.py:432: FutureWarning: Default solver will be changed to 'lbfgs' in 0.22. Specify a solver to silence this warning.\n  FutureWarning)\nc:\\users\\dgilmarn\\pycharmprojects\\mlearn\\venv\\lib\\site-packages\\sklearn\\linear_model\\logistic.py:432: FutureWarning: Default solver will be changed to 'lbfgs' in 0.22. Specify a solver to silence this warning.\n  FutureWarning)\nc:\\users\\dgilmarn\\pycharmprojects\\mlearn\\venv\\lib\\site-packages\\sklearn\\linear_model\\logistic.py:432: FutureWarning: Default solver will be changed to 'lbfgs' in 0.22. Specify a solver to silence this warning.\n  FutureWarning)\nc:\\users\\dgilmarn\\pycharmprojects\\mlearn\\venv\\lib\\site-packages\\sklearn\\linear_model\\logistic.py:432: FutureWarning: Default solver will be changed to 'lbfgs' in 0.22. Specify a solver to silence this warning.\n  FutureWarning)\nc:\\users\\dgilmarn\\pycharmprojects\\mlearn\\venv\\lib\\site-packages\\sklearn\\linear_model\\logistic.py:432: FutureWarning: Default solver will be changed to 'lbfgs' in 0.22. Specify a solver to silence this warning.\n  FutureWarning)\nc:\\users\\dgilmarn\\pycharmprojects\\mlearn\\venv\\lib\\site-packages\\sklearn\\linear_model\\logistic.py:432: FutureWarning: Default solver will be changed to 'lbfgs' in 0.22. Specify a solver to silence this warning.\n  FutureWarning)\n"
     ],
     "output_type": "stream"
    }
   ],
   "source": [
    "log_reg_train = []\n",
    "log_reg_cross = []\n",
    "lin_svm_train = []\n",
    "lin_svm_cross = []\n",
    "rbf_svm_train = []\n",
    "rbf_svm_cross = []\n",
    "poly_svm_train = []\n",
    "poly_svm_cross = []\n",
    "for i in range(10):\n",
    "    X_train, X_cross, y_train, y_cross = model_selection.train_test_split(X_std, y, train_size=.8, random_state=i)\n",
    "    # Logistic Regression:\n",
    "    reg = linear_model.LogisticRegression(random_state=i)\n",
    "    reg.fit(X_train, y_train)\n",
    "    log_reg_train.append(reg.score(X_train, y_train))\n",
    "    log_reg_cross.append(reg.score(X_cross, y_cross))\n",
    "    # Support Vector Machine:\n",
    "    clf1 = svm.SVC(kernel='linear', C=1, gamma=1, random_state=i)\n",
    "    clf1.fit(X_train, y_train)\n",
    "    lin_svm_train.append(clf1.score(X_train, y_train))\n",
    "    lin_svm_cross.append(clf1.score(X_cross, y_cross))\n",
    "    clf2 = svm.SVC(kernel='rbf', C=1, gamma=1, random_state=i)\n",
    "    clf2.fit(X_train, y_train)\n",
    "    rbf_svm_train.append(clf2.score(X_train, y_train))\n",
    "    rbf_svm_cross.append(clf2.score(X_cross, y_cross))\n",
    "    clf3 = svm.SVC(kernel='poly', C=1, gamma=1, random_state=i)\n",
    "    clf3.fit(X_train, y_train)\n",
    "    poly_svm_train.append(clf3.score(X_train, y_train))\n",
    "    poly_svm_cross.append(clf3.score(X_cross, y_cross))"
   ],
   "metadata": {
    "collapsed": false,
    "pycharm": {
     "name": "#%%\n",
     "is_executing": false
    }
   }
  },
  {
   "cell_type": "markdown",
   "source": [
    "Logistic Regression: Blue,\n",
    "Linear SVM: Orange,\n",
    "RBF SVM: Green,\n",
    "Poly SVM: Red"
   ],
   "metadata": {
    "collapsed": false,
    "pycharm": {
     "name": "#%% md\n"
    }
   }
  },
  {
   "cell_type": "code",
   "execution_count": 39,
   "outputs": [
    {
     "data": {
      "text/plain": "Text(0.5, 1.0, 'Training Scores')"
     },
     "metadata": {},
     "output_type": "execute_result",
     "execution_count": 39
    },
    {
     "data": {
      "text/plain": "<Figure size 432x288 with 1 Axes>",
      "image/png": "[encoded data removed]"
     },
     "metadata": {
      "needs_background": "light"
     },
     "output_type": "display_data"
    }
   ],
   "source": [
    "x = range(10)\n",
    "fig, ax = plt.subplots()\n",
    "ax.scatter(x, log_reg_train, marker='X')\n",
    "ax.scatter(x, lin_svm_train, alpha = .6, marker='^')\n",
    "ax.scatter(x, rbf_svm_train, alpha = .5)\n",
    "ax.scatter(x, poly_svm_train, alpha = .5)\n",
    "ax.set_xlabel(\"Trial Number\")\n",
    "ax.set_ylabel(\"Score\")\n",
    "ax.set_title(\"Training Scores\")"
   ],
   "metadata": {
    "collapsed": false,
    "pycharm": {
     "name": "#%%\n",
     "is_executing": false
    }
   }
  },
  {
   "cell_type": "markdown",
   "source": [
    "Averages of training scores"
   ],
   "metadata": {
    "collapsed": false
   }
  },
  {
   "cell_type": "code",
   "execution_count": 40,
   "outputs": [
    {
     "name": "stdout",
     "text": [
      "Logistic Regression = 0.6571428571428573\nLinear SVM = 0.661904761904762\nRBF SVM = 0.7333333333333334\nPoly SVM = 0.7380952380952381\n"
     ],
     "output_type": "stream"
    }
   ],
   "source": [
    "print(\"Logistic Regression =\", sum(log_reg_train) / len(log_reg_train))\n",
    "print(\"Linear SVM =\", sum(lin_svm_train) / len(lin_svm_train))\n",
    "print(\"RBF SVM =\", sum(rbf_svm_train) / len(rbf_svm_train))\n",
    "print(\"Poly SVM =\", sum(poly_svm_train) / len(poly_svm_train))"
   ],
   "metadata": {
    "collapsed": false,
    "pycharm": {
     "name": "#%%\n",
     "is_executing": false
    }
   }
  },
  {
   "cell_type": "code",
   "execution_count": 41,
   "outputs": [
    {
     "data": {
      "text/plain": "Text(0.5, 1.0, 'Cross Scores')"
     },
     "metadata": {},
     "output_type": "execute_result",
     "execution_count": 41
    },
    {
     "data": {
      "text/plain": "<Figure size 432x288 with 1 Axes>",
      "image/png": "[encoded data removed]"
     },
     "metadata": {
      "needs_background": "light"
     },
     "output_type": "display_data"
    }
   ],
   "source": [
    "x = range(10)\n",
    "fig, ax = plt.subplots()\n",
    "ax.scatter(x, log_reg_cross, marker='X')\n",
    "ax.scatter(x, lin_svm_cross, alpha = .6, marker='^')\n",
    "ax.scatter(x, rbf_svm_cross, alpha = .5)\n",
    "ax.scatter(x, poly_svm_cross, alpha = .5)\n",
    "ax.set_xlabel(\"Trial Number\")\n",
    "ax.set_ylabel(\"Score\")\n",
    "ax.set_title(\"Cross Scores\")"
   ],
   "metadata": {
    "collapsed": false,
    "pycharm": {
     "name": "#%%\n",
     "is_executing": false
    }
   }
  },
  {
   "cell_type": "markdown",
   "source": [
    "Averages of cross scores"
   ],
   "metadata": {
    "collapsed": false
   }
  },
  {
   "cell_type": "code",
   "execution_count": 42,
   "outputs": [
    {
     "name": "stdout",
     "text": [
      "Logistic Regression = 0.6272727272727273\nLinear SVM = 0.6545454545454547\nRBF SVM = 0.6636363636363638\nPoly SVM = 0.6636363636363637\n"
     ],
     "output_type": "stream"
    }
   ],
   "source": [
    "print(\"Logistic Regression =\", sum(log_reg_cross) / len(log_reg_cross))\n",
    "print(\"Linear SVM =\", sum(lin_svm_cross) / len(lin_svm_cross))\n",
    "print(\"RBF SVM =\", sum(rbf_svm_cross) / len(rbf_svm_cross))\n",
    "print(\"Poly SVM =\", sum(poly_svm_cross) / len(poly_svm_cross))"
   ],
   "metadata": {
    "collapsed": false,
    "pycharm": {
     "name": "#%%\n",
     "is_executing": false
    }
   }
  },
  {
   "cell_type": "markdown",
   "source": [
    "Regularization of SVM "
   ],
   "metadata": {
    "collapsed": false,
    "pycharm": {
     "name": "#%% md\n"
    }
   }
  },
  {
   "cell_type": "code",
   "execution_count": 43,
   "outputs": [],
   "source": [
    "lin_svm_train_C = []\n",
    "lin_svm_cross_C = []\n",
    "rbf_svm_train_C = []\n",
    "rbf_svm_cross_C = []\n",
    "poly_svm_train_C = []\n",
    "poly_svm_cross_C = []\n",
    "for i in range(1, 200, 5):\n",
    "    X_train, X_cross, y_train, y_cross = model_selection.train_test_split(X_std, y, train_size=.8, random_state=1)\n",
    "    # Support Vector Machine:\n",
    "    clf1 = svm.SVC(kernel='linear', C=i, gamma=1, random_state=1)\n",
    "    clf1.fit(X_train, y_train)\n",
    "    lin_svm_train_C.append(clf1.score(X_train, y_train))\n",
    "    lin_svm_cross_C.append(clf1.score(X_cross, y_cross))\n",
    "    clf2 = svm.SVC(kernel='rbf', C=i, gamma=1, random_state=1)\n",
    "    clf2.fit(X_train, y_train)\n",
    "    rbf_svm_train_C.append(clf2.score(X_train, y_train))\n",
    "    rbf_svm_cross_C.append(clf2.score(X_cross, y_cross))\n",
    "    clf3 = svm.SVC(kernel='poly', C=i, gamma=1, random_state=1)\n",
    "    clf3.fit(X_train, y_train)\n",
    "    poly_svm_train_C.append(clf3.score(X_train, y_train))\n",
    "    poly_svm_cross_C.append(clf3.score(X_cross, y_cross))"
   ],
   "metadata": {
    "collapsed": false,
    "pycharm": {
     "name": "#%%\n",
     "is_executing": false
    }
   }
  },
  {
   "cell_type": "markdown",
   "source": [
    "Linear SVM: Blue,\n",
    "RBF SVM: Orange,\n",
    "Poly SVM: Green"
   ],
   "metadata": {
    "collapsed": false
   }
  },
  {
   "cell_type": "code",
   "execution_count": 44,
   "outputs": [
    {
     "data": {
      "text/plain": "Text(0.5, 1.0, 'Train Scores')"
     },
     "metadata": {},
     "output_type": "execute_result",
     "execution_count": 44
    },
    {
     "data": {
      "text/plain": "<Figure size 432x288 with 1 Axes>",
      "image/png": "[encoded data removed]"
     },
     "metadata": {
      "needs_background": "light"
     },
     "output_type": "display_data"
    }
   ],
   "source": [
    "x = range(1, 200, 5)\n",
    "fig, ax = plt.subplots()\n",
    "ax.scatter(x, lin_svm_train_C, alpha = .6, marker='X')\n",
    "ax.scatter(x, rbf_svm_train_C, alpha = .5, marker='^')\n",
    "ax.scatter(x, poly_svm_train_C, alpha = .5)\n",
    "ax.set_xlabel(\"Trial Number\")\n",
    "ax.set_ylabel(\"Score\")\n",
    "ax.set_title(\"Train Scores\")"
   ],
   "metadata": {
    "collapsed": false,
    "pycharm": {
     "name": "#%%\n",
     "is_executing": false
    }
   }
  },
  {
   "cell_type": "code",
   "execution_count": 45,
   "outputs": [
    {
     "data": {
      "text/plain": "Text(0.5, 1.0, 'Cross Scores')"
     },
     "metadata": {},
     "output_type": "execute_result",
     "execution_count": 45
    },
    {
     "data": {
      "text/plain": "<Figure size 432x288 with 1 Axes>",
      "image/png": "[encoded data removed]"
     },
     "metadata": {
      "needs_background": "light"
     },
     "output_type": "display_data"
    }
   ],
   "source": [
    "x = range(1, 200, 5)\n",
    "fig, ax = plt.subplots()\n",
    "ax.scatter(x, lin_svm_cross_C, alpha = .6, marker='X')\n",
    "ax.scatter(x, rbf_svm_cross_C, alpha = .5, marker='^')\n",
    "ax.scatter(x, poly_svm_cross_C, alpha = .5)\n",
    "ax.set_xlabel(\"Trial Number\")\n",
    "ax.set_ylabel(\"Score\")\n",
    "ax.set_title(\"Cross Scores\")"
   ],
   "metadata": {
    "collapsed": false,
    "pycharm": {
     "name": "#%%\n",
     "is_executing": false
    }
   }
  },
  {
   "cell_type": "markdown",
   "source": [
    "Testing out SVM Poly with C = 150"
   ],
   "metadata": {
    "collapsed": false,
    "pycharm": {
     "name": "#%% md\n"
    }
   }
  },
  {
   "cell_type": "code",
   "execution_count": 46,
   "outputs": [],
   "source": [
    "poly_svm_cross_test = []\n",
    "for i in range(1000):\n",
    "    X_train, X_cross, y_train, y_cross = model_selection.train_test_split(X_std, y, train_size=.8, random_state=i)\n",
    "    clf3 = svm.SVC(kernel='poly', C=150, gamma=1, random_state=i)\n",
    "    clf3.fit(X_train, y_train)\n",
    "    poly_svm_cross_test.append(clf3.score(X_cross, y_cross))"
   ],
   "metadata": {
    "collapsed": false,
    "pycharm": {
     "name": "#%%\n",
     "is_executing": false
    }
   }
  },
  {
   "cell_type": "code",
   "execution_count": 47,
   "outputs": [
    {
     "data": {
      "text/plain": "Text(0.5, 1.0, 'Cross Scores')"
     },
     "metadata": {},
     "output_type": "execute_result",
     "execution_count": 47
    },
    {
     "data": {
      "text/plain": "<Figure size 432x288 with 1 Axes>",
      "image/png": "[encoded data removed]"
     },
     "metadata": {
      "needs_background": "light"
     },
     "output_type": "display_data"
    }
   ],
   "source": [
    "x = range(1000)\n",
    "fig, ax = plt.subplots()\n",
    "ax.scatter(x, poly_svm_cross_test, alpha = .5)\n",
    "ax.set_xlabel(\"Trial Number\")\n",
    "ax.set_ylabel(\"Score\")\n",
    "ax.set_title(\"Cross Scores\")"
   ],
   "metadata": {
    "collapsed": false,
    "pycharm": {
     "name": "#%%\n",
     "is_executing": false
    }
   }
  },
  {
   "cell_type": "code",
   "execution_count": 48,
   "outputs": [
    {
     "name": "stdout",
     "text": [
      "Average Poly SVM = 0.6851818181818197\n"
     ],
     "output_type": "stream"
    }
   ],
   "source": [
    "print(\"Average Poly SVM =\", sum(poly_svm_cross_test) / len(poly_svm_cross_test))\n"
   ],
   "metadata": {
    "collapsed": false,
    "pycharm": {
     "name": "#%%\n",
     "is_executing": false
    }
   }
  }
 ],
 "metadata": {
  "kernelspec": {
   "display_name": "Python 3",
   "language": "python",
   "name": "python3"
  },
  "language_info": {
   "codemirror_mode": {
    "name": "ipython",
    "version": 3
   },
   "file_extension": ".py",
   "mimetype": "text/x-python",
   "name": "python",
   "nbconvert_exporter": "python",
   "pygments_lexer": "ipython3",
   "version": "3.7.4rc1"
  },
  "pycharm": {
   "stem_cell": {
    "cell_type": "raw",
    "source": [],
    "metadata": {
     "collapsed": false
    }
   }
  }
 },
 "nbformat": 4,
 "nbformat_minor": 1
}