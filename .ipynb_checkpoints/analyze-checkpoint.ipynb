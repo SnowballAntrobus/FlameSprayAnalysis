{
 "cells": [
  {
   "cell_type": "code",
   "execution_count": 5,
   "metadata": {
    "collapsed": true,
    "pycharm": {
     "is_executing": false
    }
   },
   "outputs": [],
   "source": [
    "import pandas as pd\n",
    "import matplotlib.pyplot as plt\n",
    "%matplotlib inline\n",
    "import seaborn as sns"
   ]
  },
  {
   "cell_type": "code",
   "execution_count": 6,
   "metadata": {
    "pycharm": {
     "is_executing": false,
     "name": "#%%\n"
    }
   },
   "outputs": [],
   "source": [
    "input_file = \"data.csv\"\n",
    "df = pd.read_csv(input_file, header = 0)"
   ]
  },
  {
   "cell_type": "code",
   "execution_count": 8,
   "metadata": {
    "pycharm": {
     "is_executing": false,
     "name": "#%%\n"
    }
   },
   "outputs": [
    {
     "data": {
      "text/html": [
       "<div>\n",
       "<style scoped>\n",
       "    .dataframe tbody tr th:only-of-type {\n",
       "        vertical-align: middle;\n",
       "    }\n",
       "\n",
       "    .dataframe tbody tr th {\n",
       "        vertical-align: top;\n",
       "    }\n",
       "\n",
       "    .dataframe thead th {\n",
       "        text-align: right;\n",
       "    }\n",
       "</style>\n",
       "<table border=\"1\" class=\"dataframe\">\n",
       "  <thead>\n",
       "    <tr style=\"text-align: right;\">\n",
       "      <th></th>\n",
       "      <th>File name</th>\n",
       "      <th># Liquid Flow Rate (mL/min)</th>\n",
       "      <th>Atomization O2 Flow Rate (L/min)</th>\n",
       "      <th>Sheath O2 Flow Rate (L/min)</th>\n",
       "      <th>ER1 (EtOH/AtomO2)</th>\n",
       "      <th>ER2 (EtOH/AtomO2+SheathO2)</th>\n",
       "      <th>Burner Cap Temperature</th>\n",
       "    </tr>\n",
       "  </thead>\n",
       "  <tbody>\n",
       "    <tr>\n",
       "      <th>0</th>\n",
       "      <td>flame-spray-40.avi</td>\n",
       "      <td>6.66</td>\n",
       "      <td>11.30</td>\n",
       "      <td>12.9</td>\n",
       "      <td>0.51</td>\n",
       "      <td>0.24</td>\n",
       "      <td>203.0</td>\n",
       "    </tr>\n",
       "    <tr>\n",
       "      <th>1</th>\n",
       "      <td>flame-spray-38.avi</td>\n",
       "      <td>7.38</td>\n",
       "      <td>11.70</td>\n",
       "      <td>11.5</td>\n",
       "      <td>0.55</td>\n",
       "      <td>0.28</td>\n",
       "      <td>198.0</td>\n",
       "    </tr>\n",
       "    <tr>\n",
       "      <th>2</th>\n",
       "      <td>flame-spray-36.avi</td>\n",
       "      <td>7.62</td>\n",
       "      <td>11.90</td>\n",
       "      <td>7.5</td>\n",
       "      <td>0.56</td>\n",
       "      <td>0.34</td>\n",
       "      <td>191.0</td>\n",
       "    </tr>\n",
       "    <tr>\n",
       "      <th>3</th>\n",
       "      <td>flame-spray-34.avi</td>\n",
       "      <td>6.42</td>\n",
       "      <td>9.66</td>\n",
       "      <td>10.7</td>\n",
       "      <td>0.58</td>\n",
       "      <td>0.27</td>\n",
       "      <td>182.0</td>\n",
       "    </tr>\n",
       "    <tr>\n",
       "      <th>4</th>\n",
       "      <td>flame-spray-32.avi</td>\n",
       "      <td>6.18</td>\n",
       "      <td>9.18</td>\n",
       "      <td>13.7</td>\n",
       "      <td>0.59</td>\n",
       "      <td>0.23</td>\n",
       "      <td>168.0</td>\n",
       "    </tr>\n",
       "  </tbody>\n",
       "</table>\n",
       "</div>"
      ],
      "text/plain": [
       "            File name  # Liquid Flow Rate (mL/min)   \\\n",
       "0  flame-spray-40.avi                          6.66   \n",
       "1  flame-spray-38.avi                          7.38   \n",
       "2  flame-spray-36.avi                          7.62   \n",
       "3  flame-spray-34.avi                          6.42   \n",
       "4  flame-spray-32.avi                          6.18   \n",
       "\n",
       "    Atomization O2 Flow Rate (L/min)    Sheath O2 Flow Rate (L/min)   \\\n",
       "0                               11.30                           12.9   \n",
       "1                               11.70                           11.5   \n",
       "2                               11.90                            7.5   \n",
       "3                                9.66                           10.7   \n",
       "4                                9.18                           13.7   \n",
       "\n",
       "    ER1 (EtOH/AtomO2)    ER2 (EtOH/AtomO2+SheathO2)  Burner Cap Temperature  \n",
       "0                 0.51                         0.24                   203.0  \n",
       "1                 0.55                         0.28                   198.0  \n",
       "2                 0.56                         0.34                   191.0  \n",
       "3                 0.58                         0.27                   182.0  \n",
       "4                 0.59                         0.23                   168.0  "
      ]
     },
     "execution_count": 8,
     "metadata": {},
     "output_type": "execute_result"
    }
   ],
   "source": [
    "df.head()"
   ]
  },
  {
   "cell_type": "code",
   "execution_count": 9,
   "metadata": {
    "pycharm": {
     "is_executing": false,
     "name": "#%%\n"
    }
   },
   "outputs": [
    {
     "data": {
      "text/html": [
       "<div>\n",
       "<style scoped>\n",
       "    .dataframe tbody tr th:only-of-type {\n",
       "        vertical-align: middle;\n",
       "    }\n",
       "\n",
       "    .dataframe tbody tr th {\n",
       "        vertical-align: top;\n",
       "    }\n",
       "\n",
       "    .dataframe thead th {\n",
       "        text-align: right;\n",
       "    }\n",
       "</style>\n",
       "<table border=\"1\" class=\"dataframe\">\n",
       "  <thead>\n",
       "    <tr style=\"text-align: right;\">\n",
       "      <th></th>\n",
       "      <th># Liquid Flow Rate (mL/min)</th>\n",
       "      <th>Atomization O2 Flow Rate (L/min)</th>\n",
       "      <th>Sheath O2 Flow Rate (L/min)</th>\n",
       "      <th>ER1 (EtOH/AtomO2)</th>\n",
       "      <th>ER2 (EtOH/AtomO2+SheathO2)</th>\n",
       "      <th>Burner Cap Temperature</th>\n",
       "    </tr>\n",
       "  </thead>\n",
       "  <tbody>\n",
       "    <tr>\n",
       "      <th>count</th>\n",
       "      <td>53.000000</td>\n",
       "      <td>53.000000</td>\n",
       "      <td>53.000000</td>\n",
       "      <td>53.000000</td>\n",
       "      <td>53.000000</td>\n",
       "      <td>53.000000</td>\n",
       "    </tr>\n",
       "    <tr>\n",
       "      <th>mean</th>\n",
       "      <td>8.866792</td>\n",
       "      <td>9.269434</td>\n",
       "      <td>9.767925</td>\n",
       "      <td>0.848491</td>\n",
       "      <td>0.416226</td>\n",
       "      <td>573.226415</td>\n",
       "    </tr>\n",
       "    <tr>\n",
       "      <th>std</th>\n",
       "      <td>1.633283</td>\n",
       "      <td>1.564203</td>\n",
       "      <td>3.051593</td>\n",
       "      <td>0.170963</td>\n",
       "      <td>0.107188</td>\n",
       "      <td>2971.982423</td>\n",
       "    </tr>\n",
       "    <tr>\n",
       "      <th>min</th>\n",
       "      <td>6.060000</td>\n",
       "      <td>6.180000</td>\n",
       "      <td>5.100000</td>\n",
       "      <td>0.510000</td>\n",
       "      <td>0.230000</td>\n",
       "      <td>130.000000</td>\n",
       "    </tr>\n",
       "    <tr>\n",
       "      <th>25%</th>\n",
       "      <td>7.500000</td>\n",
       "      <td>8.100000</td>\n",
       "      <td>6.900000</td>\n",
       "      <td>0.760000</td>\n",
       "      <td>0.350000</td>\n",
       "      <td>137.000000</td>\n",
       "    </tr>\n",
       "    <tr>\n",
       "      <th>50%</th>\n",
       "      <td>8.940000</td>\n",
       "      <td>9.420000</td>\n",
       "      <td>9.900000</td>\n",
       "      <td>0.840000</td>\n",
       "      <td>0.400000</td>\n",
       "      <td>146.000000</td>\n",
       "    </tr>\n",
       "    <tr>\n",
       "      <th>75%</th>\n",
       "      <td>10.000000</td>\n",
       "      <td>10.500000</td>\n",
       "      <td>12.500000</td>\n",
       "      <td>0.960000</td>\n",
       "      <td>0.490000</td>\n",
       "      <td>203.000000</td>\n",
       "    </tr>\n",
       "    <tr>\n",
       "      <th>max</th>\n",
       "      <td>11.900000</td>\n",
       "      <td>11.900000</td>\n",
       "      <td>14.900000</td>\n",
       "      <td>1.160000</td>\n",
       "      <td>0.660000</td>\n",
       "      <td>21800.000000</td>\n",
       "    </tr>\n",
       "  </tbody>\n",
       "</table>\n",
       "</div>"
      ],
      "text/plain": [
       "       # Liquid Flow Rate (mL/min)    Atomization O2 Flow Rate (L/min)   \\\n",
       "count                     53.000000                           53.000000   \n",
       "mean                       8.866792                            9.269434   \n",
       "std                        1.633283                            1.564203   \n",
       "min                        6.060000                            6.180000   \n",
       "25%                        7.500000                            8.100000   \n",
       "50%                        8.940000                            9.420000   \n",
       "75%                       10.000000                           10.500000   \n",
       "max                       11.900000                           11.900000   \n",
       "\n",
       "        Sheath O2 Flow Rate (L/min)    ER1 (EtOH/AtomO2)   \\\n",
       "count                      53.000000            53.000000   \n",
       "mean                        9.767925             0.848491   \n",
       "std                         3.051593             0.170963   \n",
       "min                         5.100000             0.510000   \n",
       "25%                         6.900000             0.760000   \n",
       "50%                         9.900000             0.840000   \n",
       "75%                        12.500000             0.960000   \n",
       "max                        14.900000             1.160000   \n",
       "\n",
       "        ER2 (EtOH/AtomO2+SheathO2)  Burner Cap Temperature  \n",
       "count                    53.000000               53.000000  \n",
       "mean                      0.416226              573.226415  \n",
       "std                       0.107188             2971.982423  \n",
       "min                       0.230000              130.000000  \n",
       "25%                       0.350000              137.000000  \n",
       "50%                       0.400000              146.000000  \n",
       "75%                       0.490000              203.000000  \n",
       "max                       0.660000            21800.000000  "
      ]
     },
     "execution_count": 9,
     "metadata": {},
     "output_type": "execute_result"
    }
   ],
   "source": [
    "df.describe()\n"
   ]
  }
 ],
 "metadata": {
  "kernelspec": {
   "display_name": "Python 3",
   "language": "python",
   "name": "python3"
  },
  "language_info": {
   "codemirror_mode": {
    "name": "ipython",
    "version": 3
   },
   "file_extension": ".py",
   "mimetype": "text/x-python",
   "name": "python",
   "nbconvert_exporter": "python",
   "pygments_lexer": "ipython3",
   "version": "3.7.4rc1"
  },
  "pycharm": {
   "stem_cell": {
    "cell_type": "raw",
    "metadata": {
     "collapsed": false
    },
    "source": []
   }
  }
 },
 "nbformat": 4,
 "nbformat_minor": 1
}
