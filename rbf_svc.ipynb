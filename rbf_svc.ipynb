{
 "cells": [
  {
   "cell_type": "code",
   "execution_count": 200,
   "metadata": {
    "collapsed": true,
    "pycharm": {
     "is_executing": false
    }
   },
   "outputs": [],
   "source": [
    "import pandas as pd\n",
    "from sklearn import model_selection, linear_model, svm, preprocessing, ensemble, feature_selection\n",
    "import matplotlib.pyplot as plt"
   ]
  },
  {
   "cell_type": "markdown",
   "source": [
    "## Load the dataset"
   ],
   "metadata": {
    "collapsed": false
   }
  },
  {
   "cell_type": "code",
   "execution_count": 201,
   "outputs": [],
   "source": [
    "input_file = \"data.csv\"\n",
    "df = pd.read_csv(input_file, header = 0)"
   ],
   "metadata": {
    "collapsed": false,
    "pycharm": {
     "name": "#%%\n",
     "is_executing": false
    }
   }
  },
  {
   "cell_type": "markdown",
   "source": [
    "### Split into input (X) and output (y) variables"
   ],
   "metadata": {
    "collapsed": false
   }
  },
  {
   "cell_type": "code",
   "execution_count": 202,
   "outputs": [],
   "source": [
    "dataset = df.values\n",
    "X = dataset[:,1:7]\n",
    "y = dataset[:,7]\n",
    "y = y.astype('int')"
   ],
   "metadata": {
    "collapsed": false,
    "pycharm": {
     "name": "#%%\n",
     "is_executing": false
    }
   }
  },
  {
   "cell_type": "code",
   "execution_count": 203,
   "outputs": [],
   "source": [
    "scaler = preprocessing.MinMaxScaler()\n",
    "scaler.fit(X)\n",
    "X_std = scaler.transform(X)"
   ],
   "metadata": {
    "collapsed": false,
    "pycharm": {
     "name": "#%%\n",
     "is_executing": false
    }
   }
  },
  {
   "cell_type": "code",
   "execution_count": 204,
   "outputs": [],
   "source": [
    "fs = [0.15940957, 0.13788721, 0.17424087, 0.16455568, 0.17854944, 0.18535723]\n",
    "#X_std = X_std * fs"
   ],
   "metadata": {
    "collapsed": false,
    "pycharm": {
     "name": "#%%\n",
     "is_executing": false
    }
   }
  },
  {
   "cell_type": "markdown",
   "source": [
    "## Testing for best parameters"
   ],
   "metadata": {
    "collapsed": false
   }
  },
  {
   "cell_type": "code",
   "execution_count": 205,
   "outputs": [
    {
     "name": "stdout",
     "text": [
      "Average Rbf SVC Cross = 74.28333333333347\nAverage Rbf SVC Train = 96.78085106383058\n"
     ],
     "output_type": "stream"
    }
   ],
   "source": [
    "rbf_svm_cross_test = []\n",
    "rbf_svm_train_test = []\n",
    "for i in range(1000):\n",
    "    X_train, X_cross, y_train, y_cross = model_selection.train_test_split(X_std, y, train_size=.9, random_state=i)\n",
    "    clf3 = svm.SVC(kernel='rbf', C=38, gamma='scale', random_state=i)\n",
    "    clf3.fit(X_train, y_train)\n",
    "    rbf_svm_train_test.append(clf3.score(X_train, y_train))\n",
    "    rbf_svm_cross_test.append(clf3.score(X_cross, y_cross))\n",
    "print(\"Average Rbf SVC Cross =\", sum(rbf_svm_cross_test) / len(rbf_svm_cross_test) * 100)\n",
    "print(\"Average Rbf SVC Train =\", sum(rbf_svm_train_test) / len(rbf_svm_train_test) * 100)"
   ],
   "metadata": {
    "collapsed": false,
    "pycharm": {
     "name": "#%%\n",
     "is_executing": false
    }
   }
  },
  {
   "cell_type": "code",
   "execution_count": 206,
   "outputs": [
    {
     "data": {
      "text/plain": "Text(0.5, 1.0, 'Cross Scores')"
     },
     "metadata": {},
     "output_type": "execute_result",
     "execution_count": 206
    },
    {
     "data": {
      "text/plain": "<Figure size 432x288 with 1 Axes>",
      "image/png": "[encoded data removed]"
     },
     "metadata": {
      "needs_background": "light"
     },
     "output_type": "display_data"
    }
   ],
   "source": [
    "x = range(1000)\n",
    "fig, ax = plt.subplots()\n",
    "ax.scatter(x, rbf_svm_cross_test, alpha = .5)\n",
    "ax.set_xlabel(\"Trial Number\")\n",
    "ax.set_ylabel(\"Score\")\n",
    "ax.set_title(\"Cross Scores\")"
   ],
   "metadata": {
    "collapsed": false,
    "pycharm": {
     "name": "#%%\n",
     "is_executing": false
    }
   }
  },
  {
   "cell_type": "markdown",
   "source": [
    "## Analyze errors"
   ],
   "metadata": {
    "collapsed": false,
    "pycharm": {
     "name": "#%% md\n"
    }
   }
  },
  {
   "cell_type": "code",
   "execution_count": 207,
   "outputs": [
    {
     "data": {
      "text/plain": "0.6666666666666666"
     },
     "metadata": {},
     "output_type": "execute_result",
     "execution_count": 207
    }
   ],
   "source": [
    "X_train, X_cross, y_train, y_cross = model_selection.train_test_split(X, y, train_size=.9, random_state=1)\n",
    "clf3 = svm.SVC(kernel='rbf', C=38, gamma='scale', random_state=i)\n",
    "clf3.fit(X_train, y_train)\n",
    "clf3.score(X_cross, y_cross)"
   ],
   "metadata": {
    "collapsed": false,
    "pycharm": {
     "name": "#%%\n",
     "is_executing": false
    }
   }
  },
  {
   "cell_type": "code",
   "execution_count": 208,
   "outputs": [
    {
     "name": "stdout",
     "text": [
      "Actual   : [1 0 0 1 0 0]\nPredicted: [0 0 0 0 0 0]\n"
     ],
     "output_type": "stream"
    }
   ],
   "source": [
    "print('Actual   :', y_cross)\n",
    "print('Predicted:', clf3.predict(X_cross))"
   ],
   "metadata": {
    "collapsed": false,
    "pycharm": {
     "name": "#%%\n",
     "is_executing": false
    }
   }
  },
  {
   "cell_type": "code",
   "execution_count": 209,
   "outputs": [],
   "source": [
    "def find_video(x_values):\n",
    "    for v in range(len(X)):\n",
    "        if (X[v, :] == x_values).all():\n",
    "            return df.at[v, 'File name']\n",
    "    print('No such video', x_values)"
   ],
   "metadata": {
    "collapsed": false,
    "pycharm": {
     "name": "#%%\n",
     "is_executing": false
    }
   }
  },
  {
   "cell_type": "code",
   "execution_count": 210,
   "outputs": [
    {
     "name": "stdout",
     "text": [
      "['flame-spray-7.avi', 'flame-spray-11.avi']\n"
     ],
     "output_type": "stream"
    }
   ],
   "source": [
    "predict_cross = clf3.predict(X_cross)\n",
    "failures = []\n",
    "for i in range(len(X_cross)):\n",
    "    if predict_cross[i] != y_cross[i]:\n",
    "        failures.append(find_video(X_cross[i]))\n",
    "print(failures)"
   ],
   "metadata": {
    "collapsed": false,
    "pycharm": {
     "name": "#%%\n",
     "is_executing": false
    }
   }
  }
 ],
 "metadata": {
  "language_info": {
   "codemirror_mode": {
    "name": "ipython",
    "version": 2
   },
   "file_extension": ".py",
   "mimetype": "text/x-python",
   "name": "python",
   "nbconvert_exporter": "python",
   "pygments_lexer": "ipython2",
   "version": "2.7.6"
  },
  "kernelspec": {
   "name": "python3",
   "language": "python",
   "display_name": "Python 3"
  },
  "pycharm": {
   "stem_cell": {
    "cell_type": "raw",
    "source": [],
    "metadata": {
     "collapsed": false
    }
   }
  }
 },
 "nbformat": 4,
 "nbformat_minor": 0
}