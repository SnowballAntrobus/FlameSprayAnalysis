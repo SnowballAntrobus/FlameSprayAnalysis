{
 "cells": [
  {
   "cell_type": "code",
   "execution_count": 47,
   "outputs": [],
   "source": [
    "import modify\n",
    "\n",
    "import pandas as pd\n",
    "import random\n",
    "from sklearn.preprocessing import StandardScaler\n",
    "from sklearn.model_selection import train_test_split, LeaveOneOut, GridSearchCV\n",
    "from sklearn.linear_model import LogisticRegression\n",
    "from sklearn.svm import SVC\n",
    "from sklearn.neighbors import KNeighborsClassifier"
   ],
   "metadata": {
    "collapsed": false,
    "pycharm": {
     "name": "#%%\n",
     "is_executing": false
    }
   }
  },
  {
   "cell_type": "code",
   "execution_count": 48,
   "outputs": [
    {
     "data": {
      "text/plain": "['LFR',\n 'AO2',\n 'SO2',\n 'ER2',\n 'BCT',\n 'LFR*LFR',\n 'LFR*SO2',\n 'LFR*BCT',\n 'AO2*SO2',\n 'SO2*SO2',\n 'SO2*ER1',\n 'SO2*ER2',\n 'SO2*BCT',\n 'ER1*ER1',\n 'ER1*ER2',\n 'ER2*ER2',\n 'ER2*BCT']"
     },
     "metadata": {},
     "output_type": "execute_result",
     "execution_count": 48
    }
   ],
   "source": [
    "modify.translate([1, 1, 1, 0, 1, 1, 1, 0, 1, 0, 0, 1, 1, 0, 0, 0, 1, 1, 1, 1, 1, 1, 0, 1, 1, 0])"
   ],
   "metadata": {
    "collapsed": false,
    "pycharm": {
     "name": "#%%\n",
     "is_executing": false
    }
   }
  },
  {
   "cell_type": "code",
   "execution_count": 49,
   "outputs": [
    {
     "name": "stdout",
     "text": [
      "{'n_neighbors': 3, 'p': 2}\n(0.8723404255319149, 2)\nKNN: 0.8333333333333334\n"
     ],
     "output_type": "stream"
    }
   ],
   "source": [
    "modify.evaluate_test([1, 1, 1, 0, 1, 1, 1, 0, 1, 0, 0, 1, 1, 0, 0, 0, 1, 1, 1, 1, 1, 1, 0, 1, 1, 0])"
   ],
   "metadata": {
    "collapsed": false,
    "pycharm": {
     "name": "#%%\n",
     "is_executing": false
    }
   }
  },
  {
   "cell_type": "code",
   "execution_count": 50,
   "outputs": [
    {
     "data": {
      "text/plain": "['AO2',\n 'SO2',\n 'ER1',\n 'ER2',\n 'LFR*LFR',\n 'LFR*AO2',\n 'LFR*ER1',\n 'AO2*SO2',\n 'AO2*ER2',\n 'AO2*BCT',\n 'SO2*BCT',\n 'ER1*ER2',\n 'ER2*BCT']"
     },
     "metadata": {},
     "output_type": "execute_result",
     "execution_count": 50
    }
   ],
   "source": [
    "modify.translate([0, 1, 1, 1, 1, 0, 1, 1, 0, 1, 0, 0, 1, 0, 1, 1, 0, 0, 0, 1, 0, 1, 0, 0, 1, 0])"
   ],
   "metadata": {
    "collapsed": false,
    "pycharm": {
     "name": "#%%\n",
     "is_executing": false
    }
   }
  },
  {
   "cell_type": "code",
   "execution_count": 51,
   "outputs": [
    {
     "name": "stdout",
     "text": [
      "{'C': 100, 'gamma': 'scale', 'kernel': 'linear'}\n(0.9148936170212766, 1)\nSVC: 0.8333333333333334\n"
     ],
     "output_type": "stream"
    }
   ],
   "source": [
    "modify.evaluate_test([0, 1, 1, 1, 1, 0, 1, 1, 0, 1, 0, 0, 1, 0, 1, 1, 0, 0, 0, 1, 0, 1, 0, 0, 1, 0])"
   ],
   "metadata": {
    "collapsed": false,
    "pycharm": {
     "name": "#%%\n",
     "is_executing": false
    }
   }
  },
  {
   "cell_type": "code",
   "execution_count": 52,
   "outputs": [
    {
     "data": {
      "text/plain": "['LFR',\n 'AO2',\n 'ER1',\n 'ER2',\n 'LFR*LFR',\n 'LFR*AO2',\n 'LFR*ER1',\n 'AO2*SO2',\n 'AO2*ER1',\n 'AO2*ER2',\n 'AO2*BCT',\n 'SO2*BCT',\n 'ER1*ER1',\n 'ER1*ER2',\n 'ER2*BCT',\n 'BCT*BCT']"
     },
     "metadata": {},
     "output_type": "execute_result",
     "execution_count": 52
    }
   ],
   "source": [
    "modify.translate([1, 1, 0, 1, 1, 0, 1, 1, 0, 1, 0, 0, 1, 1, 1, 1, 0, 0, 0, 1, 1, 1, 0, 0, 1, 1])"
   ],
   "metadata": {
    "collapsed": false,
    "pycharm": {
     "name": "#%%\n",
     "is_executing": false
    }
   }
  },
  {
   "cell_type": "code",
   "execution_count": 53,
   "outputs": [
    {
     "name": "stdout",
     "text": [
      "{'C': 1000, 'max_iter': 1000, 'solver': 'newton-cg'}\n(0.8723404255319149, 0)\nLog: 0.6666666666666666\n"
     ],
     "output_type": "stream"
    }
   ],
   "source": [
    "modify.evaluate_test([1, 1, 0, 1, 1, 0, 1, 1, 0, 1, 0, 0, 1, 1, 1, 1, 0, 0, 0, 1, 1, 1, 0, 0, 1, 1])\n"
   ],
   "metadata": {
    "collapsed": false,
    "pycharm": {
     "name": "#%%\n",
     "is_executing": false
    }
   }
  }
 ],
 "metadata": {
  "language_info": {
   "codemirror_mode": {
    "name": "ipython",
    "version": 2
   },
   "file_extension": ".py",
   "mimetype": "text/x-python",
   "name": "python",
   "nbconvert_exporter": "python",
   "pygments_lexer": "ipython2",
   "version": "2.7.6"
  },
  "kernelspec": {
   "name": "python3",
   "language": "python",
   "display_name": "Python 3"
  },
  "pycharm": {
   "stem_cell": {
    "cell_type": "raw",
    "source": [],
    "metadata": {
     "collapsed": false
    }
   }
  }
 },
 "nbformat": 4,
 "nbformat_minor": 0
}