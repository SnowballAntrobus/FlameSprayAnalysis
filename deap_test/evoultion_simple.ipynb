{
 "cells": [
  {
   "cell_type": "code",
   "execution_count": 7,
   "metadata": {
    "collapsed": true,
    "pycharm": {
     "is_executing": false
    }
   },
   "outputs": [],
   "source": [
    "import random\n",
    "\n",
    "import modify\n",
    "\n",
    "from deap import base\n",
    "from deap import creator\n",
    "from deap import tools"
   ]
  },
  {
   "cell_type": "code",
   "execution_count": 8,
   "outputs": [
    {
     "name": "stderr",
     "text": [
      "c:\\users\\dgilmarn\\pycharmprojects\\mlearn\\venv\\lib\\site-packages\\deap\\creator.py:141: RuntimeWarning: A class named 'FitnessMax' has already been created and it will be overwritten. Consider deleting previous creation of that class or rename it.\n  RuntimeWarning)\nc:\\users\\dgilmarn\\pycharmprojects\\mlearn\\venv\\lib\\site-packages\\deap\\creator.py:141: RuntimeWarning: A class named 'Individual' has already been created and it will be overwritten. Consider deleting previous creation of that class or rename it.\n  RuntimeWarning)\n"
     ],
     "output_type": "stream"
    }
   ],
   "source": [
    "creator.create(\"FitnessMax\", base.Fitness, weights=(1.0,))\n",
    "creator.create(\"Individual\", list, fitness=creator.FitnessMax)"
   ],
   "metadata": {
    "collapsed": false,
    "pycharm": {
     "name": "#%%\n",
     "is_executing": false
    }
   }
  },
  {
   "cell_type": "code",
   "execution_count": 9,
   "outputs": [],
   "source": [
    "IND_SIZE=10\n",
    "\n",
    "toolbox = base.Toolbox()\n",
    "toolbox.register(\"attr_bool\", random.randint, 0, 1)\n",
    "toolbox.register(\"individual\", tools.initRepeat, creator.Individual,  toolbox.attr_bool, n=26)\n",
    "toolbox.register(\"population\", tools.initRepeat, list, toolbox.individual)"
   ],
   "metadata": {
    "collapsed": false,
    "pycharm": {
     "name": "#%%\n",
     "is_executing": false
    }
   }
  },
  {
   "cell_type": "code",
   "execution_count": 10,
   "outputs": [],
   "source": [
    "toolbox.register(\"evaluate\", modify.evaluate)\n",
    "toolbox.register(\"mate\", tools.cxTwoPoint)\n",
    "toolbox.register(\"mutate\", tools.mutFlipBit, indpb=0.05)\n",
    "toolbox.register(\"select\", tools.selTournament, tournsize=3)"
   ],
   "metadata": {
    "collapsed": false,
    "pycharm": {
     "name": "#%%\n",
     "is_executing": false
    }
   }
  },
  {
   "cell_type": "code",
   "execution_count": 11,
   "outputs": [],
   "source": [
    "def main():\n",
    "    pop = toolbox.population(n=100)\n",
    "    # Evaluate the entire population\n",
    "    fitnesses = list(map(toolbox.evaluate, pop))\n",
    "    for ind, fit in zip(pop, fitnesses):\n",
    "        ind.fitness.values = fit\n",
    "    # CXPB  is the probability with which two individuals\n",
    "    #       are crossed\n",
    "    #\n",
    "    # MUTPB is the probability for mutating an individual\n",
    "    CXPB, MUTPB = 0.5, 0.2\n",
    "    # Extracting all the fitnesses of \n",
    "    fits = [ind.fitness.values[0] for ind in pop]\n",
    "    # Variable keeping track of the number of generations\n",
    "    g = 0\n",
    "    # Begin the evolution\n",
    "    while max(fits) < 1 and g < 100 :\n",
    "        # A new generation\n",
    "        g = g + 1\n",
    "        print(\"-- Generation %i --\" % g)\n",
    "        # Select the next generation individuals\n",
    "        offspring = toolbox.select(pop, len(pop))\n",
    "        # Clone the selected individuals\n",
    "        offspring = list(map(toolbox.clone, offspring))\n",
    "        # Apply crossover and mutation on the offspring\n",
    "        for child1, child2 in zip(offspring[::2], offspring[1::2]):\n",
    "            if random.random() < CXPB:\n",
    "                toolbox.mate(child1, child2)\n",
    "                del child1.fitness.values\n",
    "                del child2.fitness.values\n",
    "        for mutant in offspring:\n",
    "            if random.random() < MUTPB:\n",
    "                toolbox.mutate(mutant)\n",
    "                del mutant.fitness.values\n",
    "        # Evaluate the individuals with an invalid fitness\n",
    "        invalid_ind = [ind for ind in offspring if not ind.fitness.valid]\n",
    "        fitnesses = map(toolbox.evaluate, invalid_ind)\n",
    "        for ind, fit in zip(invalid_ind, fitnesses):\n",
    "            ind.fitness.values = fit\n",
    "        pop[:] = offspring\n",
    "        # Gather all the fitnesses in one list and print the stats\n",
    "        fits = [ind.fitness.values[0] for ind in pop]\n",
    "        \n",
    "        length = len(pop)\n",
    "        mean = sum(fits) / length\n",
    "        sum2 = sum(x*x for x in fits)\n",
    "        std = abs(sum2 / length - mean**2)**0.5\n",
    "        \n",
    "        print(\"  Min %s\" % min(fits))\n",
    "        print(\"  Max %s\" % max(fits))\n",
    "        print(\"  Avg %s\" % mean)\n",
    "        print(\"  Std %s\" % std)\n",
    "        best_ind = tools.selBest(pop, 1)[0]\n",
    "        print(\"Best individual is %s, %s\" % (best_ind, best_ind.fitness.values))\n",
    "        \n",
    "        \n",
    "    print(\"-- End of (successful) evolution --\")\n",
    "    \n",
    "    best_ind = tools.selBest(pop, 1)[0]\n",
    "    print(\"Best individual is %s, %s\" % (best_ind, best_ind.fitness.values))"
   ],
   "metadata": {
    "collapsed": false,
    "pycharm": {
     "name": "#%%\n",
     "is_executing": false
    }
   }
  },
  {
   "cell_type": "code",
   "execution_count": 12,
   "outputs": [
    {
     "name": "stdout",
     "text": [
      "-- Generation 1 --\n",
      "  Min 0.8085106382978723\n  Max 0.9361702127659575\n  Avg 0.887872340425533\n  Std 0.023083880740028453\nBest individual is [0, 1, 0, 1, 1, 1, 0, 0, 1, 0, 1, 0, 0, 1, 1, 0, 0, 0, 1, 1, 1, 1, 0, 1, 0, 0], (0.9361702127659575,)\n-- Generation 2 --\n",
      "  Min 0.8297872340425532\n  Max 0.9361702127659575\n  Avg 0.89340425531915\n  Std 0.02416463076083403\nBest individual is [1, 1, 0, 1, 1, 0, 1, 0, 0, 0, 0, 0, 1, 0, 1, 1, 0, 0, 0, 1, 1, 1, 0, 0, 1, 1], (0.9361702127659575,)\n-- Generation 3 --\n",
      "  Min 0.8297872340425532\n  Max 0.9787234042553191\n  Avg 0.8925531914893629\n  Std 0.027802413500750498\nBest individual is [0, 1, 1, 0, 1, 0, 0, 1, 1, 0, 1, 1, 0, 1, 0, 0, 0, 0, 0, 1, 0, 1, 0, 1, 1, 1], (0.9787234042553191,)\n-- Generation 4 --\n",
      "  Min 0.8297872340425532\n  Max 0.9361702127659575\n  Avg 0.9006382978723414\n  Std 0.026241038911049525\nBest individual is [1, 1, 0, 1, 1, 0, 1, 0, 0, 0, 0, 0, 1, 0, 1, 1, 0, 0, 0, 1, 1, 1, 0, 0, 1, 1], (0.9361702127659575,)\n-- Generation 5 --\n",
      "  Min 0.8297872340425532\n  Max 0.9361702127659575\n  Avg 0.9038297872340436\n  Std 0.026314255036120206\nBest individual is [1, 1, 0, 1, 1, 0, 1, 1, 0, 1, 0, 0, 1, 1, 1, 1, 0, 0, 0, 1, 1, 1, 0, 0, 1, 1], (0.9361702127659575,)\n-- Generation 6 --\n",
      "  Min 0.851063829787234\n  Max 0.9574468085106383\n  Avg 0.9019148936170224\n  Std 0.026385552379567002\nBest individual is [1, 1, 0, 1, 1, 0, 1, 1, 0, 1, 0, 0, 1, 1, 1, 1, 0, 0, 0, 1, 1, 1, 0, 0, 1, 1], (0.9574468085106383,)\n-- Generation 7 --\n",
      "  Min 0.851063829787234\n  Max 0.9574468085106383\n  Avg 0.9097872340425542\n  Std 0.026933178550501577\nBest individual is [0, 1, 1, 1, 1, 0, 1, 1, 0, 1, 0, 0, 1, 0, 1, 1, 0, 0, 0, 1, 1, 1, 0, 0, 1, 1], (0.9574468085106383,)\n-- Generation 8 --\n",
      "  Min 0.8297872340425532\n  Max 0.9574468085106383\n  Avg 0.9059574468085116\n  Std 0.029045475653715482\nBest individual is [1, 1, 0, 1, 1, 0, 1, 1, 0, 1, 0, 0, 1, 1, 1, 1, 0, 0, 0, 1, 1, 1, 0, 0, 1, 1], (0.9574468085106383,)\n-- Generation 9 --\n",
      "  Min 0.851063829787234\n  Max 0.9574468085106383\n  Avg 0.9114893617021287\n  Std 0.02897369281793123\nBest individual is [1, 1, 0, 1, 1, 0, 1, 1, 0, 1, 0, 0, 1, 1, 1, 1, 0, 0, 0, 1, 1, 1, 0, 0, 1, 1], (0.9574468085106383,)\n-- Generation 10 --\n",
      "  Min 0.851063829787234\n  Max 0.9574468085106383\n  Avg 0.918510638297873\n  Std 0.030247956730538133\nBest individual is [1, 1, 0, 1, 1, 0, 1, 1, 0, 1, 0, 0, 1, 1, 1, 1, 0, 0, 0, 1, 1, 1, 0, 0, 1, 1], (0.9574468085106383,)\n-- Generation 11 --\n",
      "  Min 0.851063829787234\n  Max 0.9574468085106383\n  Avg 0.9223404255319158\n  Std 0.02844625948320423\nBest individual is [1, 1, 0, 1, 1, 0, 1, 0, 0, 0, 0, 0, 1, 0, 1, 1, 0, 0, 0, 1, 1, 1, 0, 0, 1, 1], (0.9574468085106383,)\n-- Generation 12 --\n",
      "  Min 0.851063829787234\n  Max 0.9574468085106383\n  Avg 0.9212765957446817\n  Std 0.03233762585863465\nBest individual is [1, 1, 0, 1, 1, 0, 1, 0, 0, 0, 0, 0, 1, 0, 1, 1, 0, 0, 0, 1, 1, 1, 0, 0, 1, 1], (0.9574468085106383,)\n-- Generation 13 --\n",
      "  Min 0.8297872340425532\n  Max 0.9574468085106383\n  Avg 0.9214893617021285\n  Std 0.03049241272908215\nBest individual is [1, 1, 0, 1, 1, 0, 1, 1, 0, 1, 0, 0, 1, 1, 1, 1, 0, 0, 0, 1, 1, 1, 0, 0, 1, 1], (0.9574468085106383,)\n-- Generation 14 --\n",
      "  Min 0.851063829787234\n  Max 0.9574468085106383\n  Avg 0.9234042553191497\n  Std 0.029481715873494005\nBest individual is [0, 1, 1, 1, 1, 0, 1, 1, 0, 1, 0, 0, 1, 0, 1, 1, 0, 0, 0, 1, 1, 1, 0, 0, 1, 1], (0.9574468085106383,)\n-- Generation 15 --\n",
      "  Min 0.8297872340425532\n  Max 0.9574468085106383\n  Avg 0.9187234042553201\n  Std 0.03029655746605812\nBest individual is [0, 1, 1, 1, 1, 0, 1, 1, 0, 1, 0, 0, 1, 0, 1, 1, 0, 0, 0, 1, 1, 1, 0, 0, 1, 1], (0.9574468085106383,)\n-- Generation 16 --\n",
      "  Min 0.8723404255319149\n  Max 0.9574468085106383\n  Avg 0.9217021276595753\n  Std 0.028046394984284153\nBest individual is [0, 1, 1, 1, 1, 0, 1, 1, 0, 1, 0, 0, 1, 0, 1, 1, 0, 0, 0, 1, 1, 1, 0, 0, 1, 1], (0.9574468085106383,)\n-- Generation 17 --\n",
      "  Min 0.851063829787234\n  Max 0.9574468085106383\n  Avg 0.9193617021276604\n  Std 0.030875998727458817\nBest individual is [0, 1, 1, 1, 1, 0, 1, 1, 0, 1, 0, 0, 1, 0, 1, 1, 0, 0, 0, 1, 1, 1, 0, 0, 1, 1], (0.9574468085106383,)\n-- Generation 18 --\n",
      "  Min 0.851063829787234\n  Max 0.9574468085106383\n  Avg 0.9248936170212774\n  Std 0.0319085099998413\nBest individual is [0, 1, 1, 1, 1, 0, 1, 1, 0, 1, 0, 0, 1, 0, 1, 1, 0, 0, 0, 1, 1, 1, 0, 0, 1, 1], (0.9574468085106383,)\n-- Generation 19 --\n",
      "  Min 0.851063829787234\n  Max 0.9574468085106383\n  Avg 0.926382978723405\n  Std 0.028926781956330243\nBest individual is [1, 1, 0, 1, 1, 0, 1, 1, 0, 1, 0, 0, 1, 1, 1, 1, 0, 0, 0, 1, 1, 1, 0, 0, 1, 1], (0.9574468085106383,)\n-- Generation 20 --\n",
      "  Min 0.851063829787234\n  Max 0.9574468085106383\n  Avg 0.9210638297872349\n  Std 0.02967989779599247\nBest individual is [1, 1, 0, 1, 1, 0, 1, 1, 0, 1, 0, 0, 1, 1, 1, 1, 0, 0, 0, 1, 1, 1, 0, 0, 1, 1], (0.9574468085106383,)\n-- Generation 21 --\n",
      "  Min 0.8297872340425532\n  Max 0.9787234042553191\n  Avg 0.9265957446808518\n  Std 0.03175491820551181\nBest individual is [0, 1, 1, 1, 1, 0, 1, 1, 0, 1, 0, 0, 1, 0, 1, 1, 0, 0, 0, 1, 0, 1, 0, 0, 1, 0], (0.9787234042553191,)\n-- Generation 22 --\n",
      "  Min 0.851063829787234\n  Max 0.9787234042553191\n  Avg 0.9323404255319155\n  Std 0.031325045698329904\nBest individual is [0, 1, 1, 1, 1, 0, 1, 1, 0, 1, 0, 0, 1, 0, 1, 1, 0, 0, 0, 1, 0, 1, 0, 0, 1, 0], (0.9787234042553191,)\n-- Generation 23 --\n",
      "  Min 0.851063829787234\n  Max 0.9787234042553191\n  Avg 0.9191489361702136\n  Std 0.030089650263222703\nBest individual is [1, 1, 0, 1, 1, 0, 1, 1, 0, 1, 0, 0, 1, 1, 1, 1, 0, 0, 0, 1, 1, 1, 0, 0, 1, 1], (0.9787234042553191,)\n-- Generation 24 --\n",
      "  Min 0.8723404255319149\n  Max 0.9787234042553191\n  Avg 0.9231914893617029\n  Std 0.02820974920488418\nBest individual is [1, 1, 0, 1, 1, 0, 1, 1, 0, 1, 0, 0, 1, 1, 1, 1, 0, 0, 0, 1, 1, 1, 0, 0, 1, 1], (0.9787234042553191,)\n-- Generation 25 --\n",
      "  Min 0.851063829787234\n  Max 0.9787234042553191\n  Avg 0.9200000000000008\n  Std 0.0305554435251089\nBest individual is [1, 1, 0, 1, 1, 0, 1, 1, 0, 1, 0, 0, 1, 1, 1, 1, 0, 0, 0, 1, 1, 1, 0, 0, 1, 1], (0.9787234042553191,)\n-- Generation 26 --\n",
      "  Min 0.851063829787234\n  Max 0.9787234042553191\n  Avg 0.9204255319148945\n  Std 0.03304660138782169\nBest individual is [1, 1, 0, 1, 1, 0, 1, 1, 0, 1, 0, 0, 1, 1, 1, 1, 0, 0, 0, 1, 1, 1, 0, 0, 1, 1], (0.9787234042553191,)\n-- Generation 27 --\n",
      "  Min 0.8723404255319149\n  Max 0.9787234042553191\n  Avg 0.9268085106382986\n  Std 0.03188935148115885\nBest individual is [1, 1, 0, 1, 1, 0, 1, 1, 0, 1, 0, 0, 1, 1, 1, 1, 0, 0, 0, 1, 1, 1, 0, 0, 1, 1], (0.9787234042553191,)\n-- Generation 28 --\n",
      "  Min 0.8297872340425532\n  Max 0.9787234042553191\n  Avg 0.9255319148936177\n  Std 0.034108977748666065\nBest individual is [1, 1, 0, 1, 1, 0, 1, 1, 0, 1, 0, 0, 1, 1, 1, 1, 0, 0, 0, 1, 1, 1, 0, 0, 1, 1], (0.9787234042553191,)\n-- Generation 29 --\n",
      "  Min 0.851063829787234\n  Max 0.9787234042553191\n  Avg 0.9246808510638306\n  Std 0.031330825760315595\nBest individual is [1, 1, 0, 1, 1, 0, 1, 1, 0, 1, 0, 0, 1, 1, 1, 1, 0, 0, 0, 1, 1, 1, 0, 0, 1, 1], (0.9787234042553191,)\n-- Generation 30 --\n",
      "  Min 0.8723404255319149\n  Max 0.9787234042553191\n  Avg 0.9280851063829795\n  Std 0.032793577747953474\nBest individual is [1, 1, 0, 1, 1, 0, 1, 1, 0, 1, 0, 0, 1, 1, 1, 1, 0, 0, 0, 1, 1, 1, 0, 0, 1, 1], (0.9787234042553191,)\n-- Generation 31 --\n",
      "  Min 0.8723404255319149\n  Max 0.9787234042553191\n  Avg 0.9317021276595753\n  Std 0.03354624923119487\nBest individual is [1, 1, 0, 1, 1, 0, 1, 1, 0, 1, 0, 0, 1, 1, 1, 1, 0, 0, 0, 1, 1, 1, 0, 0, 1, 1], (0.9787234042553191,)\n-- Generation 32 --\n",
      "  Min 0.8723404255319149\n  Max 0.9787234042553191\n  Avg 0.9319148936170221\n  Std 0.033641251703897944\nBest individual is [1, 1, 0, 1, 1, 0, 1, 1, 0, 1, 0, 0, 1, 1, 1, 1, 0, 0, 0, 1, 1, 1, 0, 0, 1, 1], (0.9787234042553191,)\n-- Generation 33 --\n",
      "  Min 0.851063829787234\n  Max 0.9787234042553191\n  Avg 0.9327659574468093\n  Std 0.03360355237853224\nBest individual is [1, 1, 0, 1, 1, 0, 1, 1, 0, 1, 0, 0, 1, 1, 1, 1, 0, 0, 0, 1, 1, 1, 0, 0, 1, 1], (0.9787234042553191,)\n-- Generation 34 --\n",
      "  Min 0.851063829787234\n  Max 0.9787234042553191\n  Avg 0.9314893617021284\n  Std 0.03592910881328158\nBest individual is [1, 1, 0, 1, 1, 0, 1, 1, 0, 1, 0, 0, 1, 1, 1, 1, 0, 0, 0, 1, 1, 1, 0, 0, 1, 1], (0.9787234042553191,)\n-- Generation 35 --\n",
      "  Min 0.8723404255319149\n  Max 0.9787234042553191\n  Avg 0.9359574468085115\n  Std 0.030905308144794433\nBest individual is [1, 1, 0, 1, 1, 0, 1, 1, 0, 1, 0, 0, 1, 1, 1, 1, 0, 0, 0, 1, 1, 1, 0, 0, 1, 1], (0.9787234042553191,)\n-- Generation 36 --\n",
      "  Min 0.851063829787234\n  Max 0.9787234042553191\n  Avg 0.9287234042553201\n  Std 0.03474996376819429\nBest individual is [1, 1, 0, 1, 1, 0, 1, 1, 0, 1, 0, 0, 1, 1, 1, 1, 0, 0, 0, 1, 1, 1, 0, 0, 1, 1], (0.9787234042553191,)\n-- Generation 37 --\n",
      "  Min 0.851063829787234\n  Max 0.9787234042553191\n  Avg 0.9314893617021285\n  Std 0.03398665623698951\nBest individual is [1, 1, 0, 1, 1, 0, 1, 1, 0, 1, 0, 0, 1, 1, 1, 1, 0, 0, 0, 1, 1, 1, 0, 0, 1, 1], (0.9787234042553191,)\n-- Generation 38 --\n",
      "  Min 0.851063829787234\n  Max 0.9787234042553191\n  Avg 0.9257446808510646\n  Std 0.03397533256902705\nBest individual is [1, 1, 0, 1, 1, 0, 1, 1, 0, 1, 0, 0, 1, 1, 1, 1, 0, 0, 0, 1, 1, 1, 0, 0, 1, 1], (0.9787234042553191,)\n-- Generation 39 --\n",
      "  Min 0.851063829787234\n  Max 0.9787234042553191\n  Avg 0.9285106382978731\n  Std 0.03344150247553387\nBest individual is [1, 1, 0, 1, 1, 0, 1, 1, 0, 1, 0, 0, 1, 1, 1, 1, 0, 0, 0, 1, 1, 1, 0, 0, 1, 1], (0.9787234042553191,)\n-- Generation 40 --\n",
      "  Min 0.8723404255319149\n  Max 0.9787234042553191\n  Avg 0.9300000000000008\n  Std 0.03354624923119653\nBest individual is [1, 1, 0, 1, 1, 0, 1, 1, 0, 1, 0, 0, 1, 1, 1, 1, 0, 0, 0, 1, 1, 1, 0, 0, 1, 1], (0.9787234042553191,)\n-- Generation 41 --\n",
      "  Min 0.851063829787234\n  Max 0.9787234042553191\n  Avg 0.9272340425531924\n  Std 0.03366546469158381\nBest individual is [1, 1, 0, 1, 1, 0, 1, 1, 0, 1, 0, 0, 1, 1, 1, 1, 0, 0, 0, 1, 1, 1, 0, 0, 1, 1], (0.9787234042553191,)\n-- Generation 42 --\n",
      "  Min 0.8297872340425532\n  Max 0.9787234042553191\n  Avg 0.9257446808510646\n  Std 0.034895562997089485\nBest individual is [1, 1, 0, 1, 1, 0, 1, 1, 0, 1, 0, 0, 1, 1, 1, 1, 0, 0, 0, 1, 1, 1, 0, 0, 1, 1], (0.9787234042553191,)\n-- Generation 43 --\n",
      "  Min 0.8297872340425532\n  Max 0.9787234042553191\n  Avg 0.9227659574468093\n  Std 0.03426192615017594\nBest individual is [1, 1, 0, 1, 1, 0, 1, 1, 0, 1, 0, 0, 1, 1, 1, 1, 0, 0, 0, 1, 1, 1, 0, 0, 1, 1], (0.9787234042553191,)\n-- Generation 44 --\n",
      "  Min 0.851063829787234\n  Max 0.9787234042553191\n  Avg 0.9234042553191497\n  Std 0.03268572658664719\nBest individual is [1, 1, 0, 1, 1, 0, 1, 1, 0, 1, 0, 0, 1, 1, 1, 1, 0, 0, 0, 1, 1, 1, 0, 0, 1, 1], (0.9787234042553191,)\n-- Generation 45 --\n",
      "  Min 0.8723404255319149\n  Max 0.9787234042553191\n  Avg 0.9227659574468093\n  Std 0.028331447047486375\nBest individual is [1, 1, 0, 1, 1, 0, 1, 1, 0, 1, 0, 0, 1, 1, 1, 1, 0, 0, 0, 1, 1, 1, 0, 0, 1, 1], (0.9787234042553191,)\n-- Generation 46 --\n",
      "  Min 0.851063829787234\n  Max 0.9787234042553191\n  Avg 0.9193617021276604\n  Std 0.030729032312920627\nBest individual is [1, 1, 0, 1, 1, 0, 1, 1, 0, 1, 0, 0, 1, 1, 1, 1, 0, 0, 0, 1, 1, 1, 0, 0, 1, 1], (0.9787234042553191,)\n-- Generation 47 --\n",
      "  Min 0.851063829787234\n  Max 0.9787234042553191\n  Avg 0.9195744680851072\n  Std 0.02734352991727203\nBest individual is [1, 1, 0, 1, 1, 0, 1, 1, 0, 1, 0, 0, 1, 1, 1, 1, 0, 0, 0, 1, 1, 1, 0, 0, 1, 1], (0.9787234042553191,)\n-- Generation 48 --\n",
      "  Min 0.851063829787234\n  Max 0.9787234042553191\n  Avg 0.9240425531914902\n  Std 0.028900948526146098\nBest individual is [1, 1, 0, 1, 1, 0, 1, 1, 0, 1, 0, 0, 1, 1, 1, 1, 0, 0, 0, 1, 1, 1, 0, 0, 1, 1], (0.9787234042553191,)\n-- Generation 49 --\n",
      "  Min 0.851063829787234\n  Max 0.9787234042553191\n  Avg 0.9178723404255328\n  Std 0.027744550319463414\nBest individual is [1, 1, 0, 1, 1, 0, 1, 1, 0, 1, 0, 0, 1, 1, 1, 1, 0, 0, 0, 1, 1, 1, 0, 0, 1, 1], (0.9787234042553191,)\n-- Generation 50 --\n",
      "  Min 0.851063829787234\n  Max 0.9787234042553191\n  Avg 0.9180851063829796\n  Std 0.029385590036002468\nBest individual is [1, 1, 0, 1, 1, 0, 1, 1, 0, 1, 0, 0, 1, 1, 1, 1, 0, 0, 0, 1, 1, 1, 0, 0, 1, 1], (0.9787234042553191,)\n-- Generation 51 --\n",
      "  Min 0.851063829787234\n  Max 0.9787234042553191\n  Avg 0.919787234042554\n  Std 0.03196520856528342\nBest individual is [1, 1, 0, 1, 1, 0, 1, 1, 0, 1, 0, 0, 1, 1, 1, 1, 0, 0, 0, 1, 1, 1, 0, 0, 1, 1], (0.9787234042553191,)\n-- Generation 52 --\n",
      "  Min 0.851063829787234\n  Max 0.9787234042553191\n  Avg 0.9253191489361712\n  Std 0.03119688786695381\nBest individual is [1, 1, 0, 1, 1, 0, 1, 1, 0, 1, 0, 0, 1, 1, 1, 1, 0, 0, 0, 1, 1, 1, 0, 0, 1, 1], (0.9787234042553191,)\n-- Generation 53 --\n",
      "  Min 0.851063829787234\n  Max 0.9787234042553191\n  Avg 0.9227659574468093\n  Std 0.03221911739287718\nBest individual is [1, 1, 0, 1, 1, 0, 1, 1, 0, 1, 0, 0, 1, 1, 1, 1, 0, 0, 0, 1, 1, 1, 0, 0, 1, 1], (0.9787234042553191,)\n-- Generation 54 --\n",
      "  Min 0.851063829787234\n  Max 0.9787234042553191\n  Avg 0.9274468085106391\n  Std 0.02980166823526226\nBest individual is [1, 1, 0, 1, 1, 0, 1, 1, 0, 1, 0, 0, 1, 1, 1, 1, 0, 0, 0, 1, 1, 1, 0, 0, 1, 1], (0.9787234042553191,)\n-- Generation 55 --\n",
      "  Min 0.851063829787234\n  Max 0.9787234042553191\n  Avg 0.9272340425531922\n  Std 0.031005482947980962\nBest individual is [1, 1, 0, 1, 1, 0, 1, 1, 0, 1, 0, 0, 1, 1, 1, 1, 0, 0, 0, 1, 1, 1, 0, 0, 1, 1], (0.9787234042553191,)\n-- Generation 56 --\n",
      "  Min 0.851063829787234\n  Max 0.9787234042553191\n  Avg 0.9289361702127666\n  Std 0.03380502238206022\nBest individual is [1, 1, 0, 1, 1, 0, 1, 1, 0, 1, 0, 0, 1, 1, 1, 1, 0, 0, 0, 1, 1, 1, 0, 0, 1, 1], (0.9787234042553191,)\n-- Generation 57 --\n",
      "  Min 0.851063829787234\n  Max 0.9787234042553191\n  Avg 0.9276595744680859\n  Std 0.032685726586660774\nBest individual is [1, 1, 0, 1, 1, 0, 1, 1, 0, 1, 0, 0, 1, 1, 1, 1, 0, 0, 0, 1, 1, 1, 0, 0, 1, 1], (0.9787234042553191,)\n-- Generation 58 --\n",
      "  Min 0.8723404255319149\n  Max 0.9787234042553191\n  Avg 0.9238297872340433\n  Std 0.029966028751393717\nBest individual is [1, 1, 0, 1, 1, 0, 1, 1, 0, 1, 0, 0, 1, 1, 1, 1, 0, 0, 0, 1, 1, 1, 0, 0, 1, 1], (0.9787234042553191,)\n-- Generation 59 --\n",
      "  Min 0.851063829787234\n  Max 0.9787234042553191\n  Avg 0.9231914893617029\n  Std 0.030670048560061572\nBest individual is [1, 1, 0, 1, 1, 0, 1, 1, 0, 1, 0, 0, 1, 1, 1, 1, 0, 0, 0, 1, 1, 1, 0, 0, 1, 1], (0.9787234042553191,)\n-- Generation 60 --\n",
      "  Min 0.851063829787234\n  Max 0.9787234042553191\n  Avg 0.9248936170212774\n  Std 0.0344989354976987\nBest individual is [1, 1, 0, 1, 1, 0, 1, 1, 0, 1, 0, 0, 1, 1, 1, 1, 0, 0, 0, 1, 1, 1, 0, 0, 1, 1], (0.9787234042553191,)\n-- Generation 61 --\n",
      "  Min 0.851063829787234\n  Max 0.9787234042553191\n  Avg 0.9265957446808518\n  Std 0.037142745212955824\nBest individual is [1, 1, 0, 1, 1, 0, 1, 1, 0, 1, 0, 0, 1, 1, 1, 1, 0, 0, 0, 1, 1, 1, 0, 0, 1, 1], (0.9787234042553191,)\n-- Generation 62 --\n",
      "  Min 0.8297872340425532\n  Max 0.9787234042553191\n  Avg 0.9314893617021285\n  Std 0.035293505174012356\nBest individual is [1, 1, 0, 1, 1, 0, 1, 1, 0, 1, 0, 0, 1, 1, 1, 1, 0, 0, 0, 1, 1, 1, 0, 0, 1, 1], (0.9787234042553191,)\n-- Generation 63 --\n",
      "  Min 0.851063829787234\n  Max 0.9787234042553191\n  Avg 0.9302127659574476\n  Std 0.03484168423906198\nBest individual is [1, 1, 0, 1, 1, 0, 1, 1, 0, 1, 0, 0, 1, 1, 1, 1, 0, 0, 0, 1, 1, 1, 0, 0, 1, 1], (0.9787234042553191,)\n-- Generation 64 --\n",
      "  Min 0.851063829787234\n  Max 0.9787234042553191\n  Avg 0.9325531914893626\n  Std 0.0358628997445547\nBest individual is [1, 1, 0, 1, 1, 0, 1, 1, 0, 1, 0, 0, 1, 1, 1, 1, 0, 0, 0, 1, 1, 1, 0, 0, 1, 1], (0.9787234042553191,)\n-- Generation 65 --\n",
      "  Min 0.8297872340425532\n  Max 0.9787234042553191\n  Avg 0.9291489361702137\n  Std 0.035354378738279166\nBest individual is [1, 1, 0, 1, 1, 0, 1, 1, 0, 1, 0, 0, 1, 1, 1, 1, 0, 0, 0, 1, 1, 1, 0, 0, 1, 1], (0.9787234042553191,)\n-- Generation 66 --\n",
      "  Min 0.8297872340425532\n  Max 0.9787234042553191\n  Avg 0.9255319148936177\n  Std 0.03330314009040119\nBest individual is [1, 1, 0, 1, 1, 0, 1, 1, 0, 1, 0, 0, 1, 1, 1, 1, 0, 0, 0, 1, 1, 1, 0, 0, 1, 1], (0.9787234042553191,)\n-- Generation 67 --\n",
      "  Min 0.851063829787234\n  Max 0.9787234042553191\n  Avg 0.9204255319148945\n  Std 0.03438919261310943\nBest individual is [1, 1, 0, 1, 1, 0, 1, 1, 0, 1, 0, 0, 1, 1, 1, 1, 0, 0, 0, 1, 1, 1, 0, 0, 1, 1], (0.9787234042553191,)\n-- Generation 68 --\n",
      "  Min 0.851063829787234\n  Max 0.9787234042553191\n  Avg 0.9238297872340435\n  Std 0.031727107108668266\nBest individual is [1, 1, 0, 1, 1, 0, 1, 1, 0, 1, 0, 0, 1, 1, 1, 1, 0, 0, 0, 1, 1, 1, 0, 0, 1, 1], (0.9787234042553191,)\n-- Generation 69 --\n",
      "  Min 0.8723404255319149\n  Max 0.9787234042553191\n  Avg 0.9261702127659582\n  Std 0.028139051994864356\nBest individual is [1, 1, 0, 1, 1, 0, 1, 1, 0, 1, 0, 0, 1, 1, 1, 1, 0, 0, 0, 1, 1, 1, 0, 0, 1, 1], (0.9787234042553191,)\n-- Generation 70 --\n",
      "  Min 0.851063829787234\n  Max 0.9787234042553191\n  Avg 0.9276595744680859\n  Std 0.032126955043683646\nBest individual is [1, 1, 0, 1, 1, 0, 1, 1, 0, 1, 0, 0, 1, 1, 1, 1, 0, 0, 0, 1, 1, 1, 0, 0, 1, 1], (0.9787234042553191,)\n-- Generation 71 --\n",
      "  Min 0.8297872340425532\n  Max 0.9787234042553191\n  Avg 0.9253191489361712\n  Std 0.03641904396383474\nBest individual is [1, 1, 0, 1, 1, 0, 1, 1, 0, 1, 0, 0, 1, 1, 1, 1, 0, 0, 0, 1, 1, 1, 0, 0, 1, 1], (0.9787234042553191,)\n-- Generation 72 --\n",
      "  Min 0.851063829787234\n  Max 0.9787234042553191\n  Avg 0.9314893617021285\n  Std 0.032903827101636265\nBest individual is [1, 1, 0, 1, 1, 0, 1, 1, 0, 1, 0, 0, 1, 1, 1, 1, 0, 0, 0, 1, 1, 1, 0, 0, 1, 1], (0.9787234042553191,)\n-- Generation 73 --\n",
      "  Min 0.8723404255319149\n  Max 0.9787234042553191\n  Avg 0.9270212765957454\n  Std 0.033675548298282246\nBest individual is [1, 1, 0, 1, 1, 0, 1, 1, 0, 1, 0, 0, 1, 1, 1, 1, 0, 0, 0, 1, 1, 1, 0, 0, 1, 1], (0.9787234042553191,)\n-- Generation 74 --\n",
      "  Min 0.851063829787234\n  Max 0.9787234042553191\n  Avg 0.9331914893617028\n  Std 0.03946450061142714\nBest individual is [1, 1, 0, 1, 1, 0, 1, 1, 0, 1, 0, 0, 1, 1, 1, 1, 0, 0, 0, 1, 1, 1, 0, 0, 1, 1], (0.9787234042553191,)\n-- Generation 75 --\n",
      "  Min 0.851063829787234\n  Max 0.9787234042553191\n  Avg 0.9310638297872349\n  Std 0.03536270065413612\nBest individual is [1, 1, 0, 1, 1, 0, 1, 1, 0, 1, 0, 0, 1, 1, 1, 1, 0, 0, 0, 1, 1, 1, 0, 0, 1, 1], (0.9787234042553191,)\n-- Generation 76 --\n",
      "  Min 0.851063829787234\n  Max 0.9787234042553191\n  Avg 0.932978723404256\n  Std 0.03726442529389367\nBest individual is [1, 1, 0, 1, 1, 0, 1, 1, 0, 1, 0, 0, 1, 1, 1, 1, 0, 0, 0, 1, 1, 1, 0, 0, 1, 1], (0.9787234042553191,)\n-- Generation 77 --\n",
      "  Min 0.851063829787234\n  Max 0.9787234042553191\n  Avg 0.9278723404255328\n  Std 0.03546177304104315\nBest individual is [1, 1, 0, 1, 1, 0, 1, 1, 0, 1, 0, 0, 1, 1, 1, 1, 0, 0, 0, 1, 1, 1, 0, 0, 1, 1], (0.9787234042553191,)\n-- Generation 78 --\n",
      "  Min 0.8297872340425532\n  Max 0.9787234042553191\n  Avg 0.9225531914893625\n  Std 0.033978663451343344\nBest individual is [1, 1, 0, 1, 1, 0, 1, 1, 0, 1, 0, 0, 1, 1, 1, 1, 0, 0, 0, 1, 1, 1, 0, 0, 1, 1], (0.9787234042553191,)\n-- Generation 79 --\n",
      "  Min 0.851063829787234\n  Max 0.9787234042553191\n  Avg 0.9248936170212774\n  Std 0.031045608179461382\nBest individual is [1, 1, 0, 1, 1, 0, 1, 1, 0, 1, 0, 0, 1, 1, 1, 1, 0, 0, 0, 1, 1, 1, 0, 0, 1, 1], (0.9787234042553191,)\n-- Generation 80 --\n",
      "  Min 0.851063829787234\n  Max 0.9787234042553191\n  Avg 0.9285106382978732\n  Std 0.03411163204053969\nBest individual is [1, 1, 0, 1, 1, 0, 1, 1, 0, 1, 0, 0, 1, 1, 1, 1, 0, 0, 0, 1, 1, 1, 0, 0, 1, 1], (0.9787234042553191,)\n-- Generation 81 --\n",
      "  Min 0.851063829787234\n  Max 0.9787234042553191\n  Avg 0.9348936170212773\n  Std 0.033073987322243203\nBest individual is [1, 1, 0, 1, 1, 0, 1, 1, 0, 1, 0, 0, 1, 1, 1, 1, 0, 0, 0, 1, 1, 1, 0, 0, 1, 1], (0.9787234042553191,)\n-- Generation 82 --\n",
      "  Min 0.851063829787234\n  Max 0.9787234042553191\n  Avg 0.9272340425531922\n  Std 0.03562543432500385\nBest individual is [1, 1, 0, 1, 1, 0, 1, 1, 0, 1, 0, 0, 1, 1, 1, 1, 0, 0, 0, 1, 1, 1, 0, 0, 1, 1], (0.9787234042553191,)\n-- Generation 83 --\n",
      "  Min 0.8297872340425532\n  Max 0.9787234042553191\n  Avg 0.925319148936171\n  Std 0.03275421176596297\nBest individual is [1, 1, 0, 1, 1, 0, 1, 1, 0, 1, 0, 0, 1, 1, 1, 1, 0, 0, 0, 1, 1, 1, 0, 0, 1, 1], (0.9787234042553191,)\n-- Generation 84 --\n",
      "  Min 0.851063829787234\n  Max 0.9787234042553191\n  Avg 0.9212765957446817\n  Std 0.03343879499040108\nBest individual is [1, 1, 0, 1, 1, 0, 1, 1, 0, 1, 0, 0, 1, 1, 1, 1, 0, 0, 0, 1, 1, 1, 0, 0, 1, 1], (0.9787234042553191,)\n-- Generation 85 --\n",
      "  Min 0.851063829787234\n  Max 0.9787234042553191\n  Avg 0.9270212765957454\n  Std 0.033675548298282246\nBest individual is [1, 1, 0, 1, 1, 0, 1, 1, 0, 1, 0, 0, 1, 1, 1, 1, 0, 0, 0, 1, 1, 1, 0, 0, 1, 1], (0.9787234042553191,)\n-- Generation 86 --\n",
      "  Min 0.851063829787234\n  Max 0.9787234042553191\n  Avg 0.9325531914893623\n  Std 0.034446407682984743\nBest individual is [1, 1, 0, 1, 1, 0, 1, 1, 0, 1, 0, 0, 1, 1, 1, 1, 0, 0, 0, 1, 1, 1, 0, 0, 1, 1], (0.9787234042553191,)\n-- Generation 87 --\n",
      "  Min 0.851063829787234\n  Max 0.9787234042553191\n  Avg 0.9270212765957456\n  Std 0.03832800233232743\nBest individual is [1, 1, 0, 1, 1, 0, 1, 1, 0, 1, 0, 0, 1, 1, 1, 1, 0, 0, 0, 1, 1, 1, 0, 0, 1, 1], (0.9787234042553191,)\n-- Generation 88 --\n",
      "  Min 0.851063829787234\n  Max 0.9787234042553191\n  Avg 0.9227659574468093\n  Std 0.03668655235346783\nBest individual is [1, 1, 0, 1, 1, 0, 1, 1, 0, 1, 0, 0, 1, 1, 1, 1, 0, 0, 0, 1, 1, 1, 0, 0, 1, 1], (0.9787234042553191,)\n-- Generation 89 --\n",
      "  Min 0.851063829787234\n  Max 0.9787234042553191\n  Avg 0.9257446808510646\n  Std 0.036666803846243205\nBest individual is [1, 1, 0, 1, 1, 0, 1, 1, 0, 1, 0, 0, 1, 1, 1, 1, 0, 0, 0, 1, 1, 1, 0, 0, 1, 1], (0.9787234042553191,)\n-- Generation 90 --\n",
      "  Min 0.851063829787234\n  Max 0.9787234042553191\n  Avg 0.9323404255319158\n  Std 0.03762770619404011\nBest individual is [1, 1, 0, 1, 1, 0, 1, 1, 0, 1, 0, 0, 1, 1, 1, 1, 0, 0, 0, 1, 1, 1, 0, 0, 1, 1], (0.9787234042553191,)\n-- Generation 91 --\n",
      "  Min 0.8297872340425532\n  Max 0.9787234042553191\n  Avg 0.9317021276595752\n  Std 0.03833272645675878\nBest individual is [1, 1, 0, 1, 1, 0, 1, 1, 0, 1, 0, 0, 1, 1, 1, 1, 0, 0, 0, 1, 1, 1, 0, 0, 1, 1], (0.9787234042553191,)\n-- Generation 92 --\n",
      "  Min 0.851063829787234\n  Max 0.9787234042553191\n  Avg 0.9317021276595752\n  Std 0.035893181901519265\nBest individual is [1, 1, 0, 1, 1, 0, 1, 1, 0, 1, 0, 0, 1, 1, 1, 1, 0, 0, 0, 1, 1, 1, 0, 0, 1, 1], (0.9787234042553191,)\n-- Generation 93 --\n",
      "  Min 0.851063829787234\n  Max 0.9787234042553191\n  Avg 0.931914893617022\n  Std 0.03648176212654874\nBest individual is [1, 1, 0, 1, 1, 0, 1, 1, 0, 1, 0, 0, 1, 1, 1, 1, 0, 0, 0, 1, 1, 1, 0, 0, 1, 1], (0.9787234042553191,)\n-- Generation 94 --\n",
      "  Min 0.851063829787234\n  Max 0.9787234042553191\n  Avg 0.9321276595744687\n  Std 0.03569081554361397\nBest individual is [1, 1, 0, 1, 1, 0, 1, 1, 0, 1, 0, 0, 1, 1, 1, 1, 0, 0, 0, 1, 1, 1, 0, 0, 1, 1], (0.9787234042553191,)\n-- Generation 95 --\n",
      "  Min 0.8723404255319149\n  Max 0.9787234042553191\n  Avg 0.934255319148937\n  Std 0.03510251429358496\nBest individual is [1, 1, 0, 1, 1, 0, 1, 1, 0, 1, 0, 0, 1, 1, 1, 1, 0, 0, 0, 1, 1, 1, 0, 0, 1, 1], (0.9787234042553191,)\n-- Generation 96 --\n",
      "  Min 0.8297872340425532\n  Max 0.9787234042553191\n  Avg 0.9234042553191497\n  Std 0.037702223716302975\nBest individual is [1, 1, 0, 1, 1, 0, 1, 1, 0, 1, 0, 0, 1, 1, 1, 1, 0, 0, 0, 1, 1, 1, 0, 0, 1, 1], (0.9787234042553191,)\n-- Generation 97 --\n",
      "  Min 0.851063829787234\n  Max 0.9787234042553191\n  Avg 0.9248936170212774\n  Std 0.03540555950950679\nBest individual is [1, 1, 0, 1, 1, 0, 1, 1, 0, 1, 0, 0, 1, 1, 1, 1, 0, 0, 0, 1, 1, 1, 0, 0, 1, 1], (0.9787234042553191,)\n-- Generation 98 --\n",
      "  Min 0.8723404255319149\n  Max 0.9787234042553191\n  Avg 0.9321276595744687\n  Std 0.0350508910231968\nBest individual is [1, 1, 0, 1, 1, 0, 1, 1, 0, 1, 0, 0, 1, 1, 1, 1, 0, 0, 0, 1, 1, 1, 0, 0, 1, 1], (0.9787234042553191,)\n-- Generation 99 --\n",
      "  Min 0.851063829787234\n  Max 0.9787234042553191\n  Avg 0.936382978723405\n  Std 0.03703533604394873\nBest individual is [1, 1, 0, 1, 1, 0, 1, 1, 0, 1, 0, 0, 1, 1, 1, 1, 0, 0, 0, 1, 1, 1, 0, 0, 1, 1], (0.9787234042553191,)\n-- Generation 100 --\n",
      "  Min 0.851063829787234\n  Max 0.9787234042553191\n  Avg 0.9331914893617029\n  Std 0.03980714031550397\nBest individual is [1, 1, 0, 1, 1, 0, 1, 1, 0, 1, 0, 0, 1, 1, 1, 1, 0, 0, 0, 1, 1, 1, 0, 0, 1, 1], (0.9787234042553191,)\n-- End of (successful) evolution --\nBest individual is [1, 1, 0, 1, 1, 0, 1, 1, 0, 1, 0, 0, 1, 1, 1, 1, 0, 0, 0, 1, 1, 1, 0, 0, 1, 1], (0.9787234042553191,)\n"
     ],
     "output_type": "stream"
    }
   ],
   "source": [
    "main()"
   ],
   "metadata": {
    "collapsed": false,
    "pycharm": {
     "name": "#%%\n",
     "is_executing": false
    }
   }
  }
 ],
 "metadata": {
  "language_info": {
   "codemirror_mode": {
    "name": "ipython",
    "version": 2
   },
   "file_extension": ".py",
   "mimetype": "text/x-python",
   "name": "python",
   "nbconvert_exporter": "python",
   "pygments_lexer": "ipython2",
   "version": "2.7.6"
  },
  "kernelspec": {
   "name": "python3",
   "language": "python",
   "display_name": "Python 3"
  },
  "pycharm": {
   "stem_cell": {
    "cell_type": "raw",
    "source": [],
    "metadata": {
     "collapsed": false
    }
   }
  }
 },
 "nbformat": 4,
 "nbformat_minor": 0
}