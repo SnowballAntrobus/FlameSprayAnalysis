{
 "cells": [
  {
   "cell_type": "code",
   "execution_count": 15,
   "metadata": {
    "collapsed": true,
    "pycharm": {
     "is_executing": false
    }
   },
   "outputs": [],
   "source": [
    "import random\n",
    "\n",
    "from deap import base\n",
    "from deap import creator\n",
    "from deap import tools"
   ]
  },
  {
   "cell_type": "code",
   "execution_count": 16,
   "outputs": [],
   "source": [
    "creator.create(\"FitnessMax\", base.Fitness, weights=(1.0,))\n",
    "creator.create(\"Individual\", list, fitness=creator.FitnessMax)"
   ],
   "metadata": {
    "collapsed": false,
    "pycharm": {
     "name": "#%%\n",
     "is_executing": false
    }
   }
  },
  {
   "cell_type": "code",
   "execution_count": 17,
   "outputs": [],
   "source": [
    "toolbox = base.Toolbox()\n",
    "# Attribute generator \n",
    "toolbox.register(\"attr_bool\", random.randint, 0, 1)\n",
    "# Structure initializers\n",
    "toolbox.register(\"individual\", tools.initRepeat, creator.Individual,  toolbox.attr_bool, 100)\n",
    "toolbox.register(\"population\", tools.initRepeat, list, toolbox.individual)"
   ],
   "metadata": {
    "collapsed": false,
    "pycharm": {
     "name": "#%%\n",
     "is_executing": false
    }
   }
  },
  {
   "cell_type": "code",
   "execution_count": 18,
   "outputs": [],
   "source": [
    "def evaluate(individual):\n",
    "    return sum(individual),"
   ],
   "metadata": {
    "collapsed": false,
    "pycharm": {
     "name": "#%%\n",
     "is_executing": false
    }
   }
  },
  {
   "cell_type": "code",
   "execution_count": null,
   "outputs": [],
   "source": [
    "toolbox.register(\"evaluate\", evaluate)\n",
    "toolbox.register(\"mate\", tools.cxTwoPoint)\n",
    "toolbox.register(\"mutate\", tools.mutFlipBit, indpb=0.05)\n",
    "toolbox.register(\"select\", tools.selTournament, tournsize=3)"
   ],
   "metadata": {
    "collapsed": false,
    "pycharm": {
     "name": "#%%\n"
    }
   }
  },
  {
   "cell_type": "code",
   "execution_count": 20,
   "outputs": [],
   "source": [
    "def main():\n",
    "    pop = toolbox.population(n=300)\n",
    "    # Evaluate the entire population\n",
    "    fitnesses = list(map(toolbox.evaluate, pop))\n",
    "    for ind, fit in zip(pop, fitnesses):\n",
    "        ind.fitness.values = fit\n",
    "    # CXPB  is the probability with which two individuals\n",
    "    #       are crossed\n",
    "    #\n",
    "    # MUTPB is the probability for mutating an individual\n",
    "    CXPB, MUTPB = 0.5, 0.2\n",
    "    # Extracting all the fitnesses of \n",
    "    fits = [ind.fitness.values[0] for ind in pop]\n",
    "    # Variable keeping track of the number of generations\n",
    "    g = 0\n",
    "    # Begin the evolution\n",
    "    while max(fits) < 100 and g < 1000:\n",
    "        # A new generation\n",
    "        g = g + 1\n",
    "        print(\"-- Generation %i --\" % g)\n",
    "        # Select the next generation individuals\n",
    "        offspring = toolbox.select(pop, len(pop))\n",
    "        # Clone the selected individuals\n",
    "        offspring = list(map(toolbox.clone, offspring))\n",
    "        # Apply crossover and mutation on the offspring\n",
    "        for child1, child2 in zip(offspring[::2], offspring[1::2]):\n",
    "            if random.random() < CXPB:\n",
    "                toolbox.mate(child1, child2)\n",
    "                del child1.fitness.values\n",
    "                del child2.fitness.values\n",
    "        for mutant in offspring:\n",
    "            if random.random() < MUTPB:\n",
    "                toolbox.mutate(mutant)\n",
    "                del mutant.fitness.values\n",
    "        # Evaluate the individuals with an invalid fitness\n",
    "        invalid_ind = [ind for ind in offspring if not ind.fitness.valid]\n",
    "        fitnesses = map(toolbox.evaluate, invalid_ind)\n",
    "        for ind, fit in zip(invalid_ind, fitnesses):\n",
    "            ind.fitness.values = fit\n",
    "        pop[:] = offspring\n",
    "        # Gather all the fitnesses in one list and print the stats\n",
    "        fits = [ind.fitness.values[0] for ind in pop]\n",
    "        \n",
    "        length = len(pop)\n",
    "        mean = sum(fits) / length\n",
    "        sum2 = sum(x*x for x in fits)\n",
    "        std = abs(sum2 / length - mean**2)**0.5\n",
    "        \n",
    "        print(\"  Min %s\" % min(fits))\n",
    "        print(\"  Max %s\" % max(fits))\n",
    "        print(\"  Avg %s\" % mean)\n",
    "        print(\"  Std %s\" % std)\n",
    "        \n",
    "    print(\"-- End of (successful) evolution --\")\n",
    "    \n",
    "    best_ind = tools.selBest(pop, 1)[0]\n",
    "    print(\"Best individual is %s, %s\" % (best_ind, best_ind.fitness.values))"
   ],
   "metadata": {
    "collapsed": false,
    "pycharm": {
     "name": "#%%\n",
     "is_executing": false
    }
   }
  },
  {
   "cell_type": "code",
   "execution_count": 21,
   "outputs": [
    {
     "name": "stdout",
     "text": [
      "-- Generation 1 --\n  Min 41.0\n  Max 64.0\n  Avg 53.82666666666667\n  Std 3.5237227788550607\n-- Generation 2 --\n",
      "  Min 48.0\n  Max 68.0\n  Avg 56.75\n  Std 3.04535164909844\n-- Generation 3 --\n  Min 50.0\n  Max 68.0\n  Avg 58.85666666666667\n  Std 3.0533242357941983\n-- Generation 4 --\n  Min 54.0\n  Max 69.0\n  Avg 60.92\n  Std 2.677112872729392\n-- Generation 5 --\n  Min 52.0\n  Max 70.0\n  Avg 63.05\n  Std 2.862545487265951\n-- Generation 6 --\n",
      "  Min 57.0\n  Max 72.0\n  Avg 64.89333333333333\n  Std 2.7401865305527258\n-- Generation 7 --\n  Min 59.0\n  Max 74.0\n  Avg 66.56666666666666\n  Std 2.5701275368268863\n-- Generation 8 --\n",
      "  Min 57.0\n  Max 76.0\n  Avg 68.15666666666667\n  Std 2.6151078159206387\n-- Generation 9 --\n  Min 62.0\n  Max 76.0\n  Avg 69.83333333333333\n  Std 2.640496586292725\n-- Generation 10 --\n  Min 61.0\n  Max 79.0\n  Avg 71.69\n  Std 2.71426478688692\n-- Generation 11 --\n  Min 64.0",
      "\n  Max 81.0\n  Avg 73.15\n  Std 2.438749679651298\n-- Generation 12 --\n  Min 67.0\n  Max 82.0\n  Avg 74.64666666666666\n  Std 2.5090148575798525\n-- Generation 13 --\n  Min 68.0\n  Max 83.0\n  Avg 76.37\n  Std 2.3818270298237585\n-- Generation 14 --\n",
      "  Min 66.0\n  Max 84.0\n  Avg 77.75666666666666\n  Std 2.734493656155897\n-- Generation 15 --\n  Min 71.0\n  Max 86.0\n  Avg 79.37333333333333\n  Std 2.569167612714538\n-- Generation 16 --\n  Min 72.0\n  Max 88.0\n  Avg 80.58333333333333\n  Std 2.5291083189316557\n-- Generation 17 --\n  Min 71.0\n  Max 88.0\n  Avg 81.91666666666667\n  Std 2.5890259858786244\n-- Generation 18 --\n",
      "  Min 75.0\n  Max 89.0\n  Avg 83.21\n  Std 2.495175344540194\n-- Generation 19 --\n  Min 76.0\n  Max 92.0\n  Avg 84.58666666666667\n  Std 2.585051041834135\n-- Generation 20 --\n  Min 74.0\n  Max 92.0\n  Avg 85.87333333333333\n  Std 2.3980455004486183\n-- Generation 21 --\n",
      "  Min 77.0\n  Max 92.0\n  Avg 86.93666666666667\n  Std 2.362058894740326\n-- Generation 22 --\n  Min 79.0\n  Max 92.0\n  Avg 87.92\n  Std 2.2030887408362516\n-- Generation 23 --\n  Min 79.0\n  Max 94.0\n  Avg 88.64666666666666\n  Std 2.1529411407552677\n-- Generation 24 --\n  Min 81.0\n  Max 94.0\n  Avg 89.33666666666667\n  Std 2.2098240251705716\n-- Generation 25 --\n",
      "  Min 80.0\n  Max 94.0\n  Avg 89.73333333333333\n  Std 2.414309194964118\n-- Generation 26 --\n  Min 82.0\n  Max 94.0\n  Avg 90.47\n  Std 2.202067210600158\n-- Generation 27 --\n",
      "  Min 80.0\n  Max 95.0\n  Avg 91.09666666666666\n  Std 2.2272529168364588\n-- Generation 28 --\n  Min 81.0\n  Max 95.0\n  Avg 91.72666666666667\n  Std 2.3292249545477\n-- Generation 29 --\n  Min 82.0\n  Max 95.0\n  Avg 92.30333333333333\n  Std 2.3561244072042253\n-- Generation 30 --\n  Min 85.0\n  Max 96.0\n  Avg 92.93333333333334\n  Std 2.126551721031468\n-- Generation 31 --\n",
      "  Min 83.0\n  Max 97.0\n  Avg 93.31333333333333\n  Std 2.2967706797930267\n-- Generation 32 --\n  Min 86.0\n  Max 97.0\n  Avg 94.0\n  Std 2.0445048300261583\n-- Generation 33 --\n",
      "  Min 83.0\n  Max 97.0\n  Avg 94.17666666666666\n  Std 2.347790923873416\n-- Generation 34 --\n  Min 85.0\n  Max 97.0\n  Avg 94.65666666666667\n  Std 2.229825603544258\n-- Generation 35 --\n  Min 86.0\n  Max 99.0\n  Avg 95.11\n  Std 2.3433380749123875\n-- Generation 36 --\n  Min 85.0\n  Max 99.0\n  Avg 95.65333333333334\n  Std 2.14937717076898\n-- Generation 37 --\n",
      "  Min 84.0\n  Max 99.0\n  Avg 95.93333333333334\n  Std 2.5785439474414793\n-- Generation 38 --\n  Min 88.0\n  Max 99.0\n  Avg 96.66333333333333\n  Std 2.1031695657323617\n-- Generation 39 --\n",
      "  Min 88.0\n  Max 100.0\n  Avg 97.08666666666667\n  Std 2.2118971243904797\n-- End of (successful) evolution --\nBest individual is [1, 1, 1, 1, 1, 1, 1, 1, 1, 1, 1, 1, 1, 1, 1, 1, 1, 1, 1, 1, 1, 1, 1, 1, 1, 1, 1, 1, 1, 1, 1, 1, 1, 1, 1, 1, 1, 1, 1, 1, 1, 1, 1, 1, 1, 1, 1, 1, 1, 1, 1, 1, 1, 1, 1, 1, 1, 1, 1, 1, 1, 1, 1, 1, 1, 1, 1, 1, 1, 1, 1, 1, 1, 1, 1, 1, 1, 1, 1, 1, 1, 1, 1, 1, 1, 1, 1, 1, 1, 1, 1, 1, 1, 1, 1, 1, 1, 1, 1, 1], (100.0,)\n"
     ],
     "output_type": "stream"
    }
   ],
   "source": [
    "    main()"
   ],
   "metadata": {
    "collapsed": false,
    "pycharm": {
     "name": "#%%\n",
     "is_executing": false
    }
   }
  }
 ],
 "metadata": {
  "language_info": {
   "codemirror_mode": {
    "name": "ipython",
    "version": 2
   },
   "file_extension": ".py",
   "mimetype": "text/x-python",
   "name": "python",
   "nbconvert_exporter": "python",
   "pygments_lexer": "ipython2",
   "version": "2.7.6"
  },
  "kernelspec": {
   "name": "python3",
   "language": "python",
   "display_name": "Python 3"
  },
  "pycharm": {
   "stem_cell": {
    "cell_type": "raw",
    "source": [],
    "metadata": {
     "collapsed": false
    }
   }
  }
 },
 "nbformat": 4,
 "nbformat_minor": 0
}