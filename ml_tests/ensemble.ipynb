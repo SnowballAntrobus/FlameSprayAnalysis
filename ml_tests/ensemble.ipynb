{
 "cells": [
  {
   "cell_type": "code",
   "metadata": {
    "collapsed": true,
    "pycharm": {
     "name": "#%%\n",
     "is_executing": false
    }
   },
   "source": [
    "import pandas as pd\n",
    "from sklearn import preprocessing, model_selection, neighbors, ensemble, svm"
   ],
   "execution_count": 192,
   "outputs": []
  },
  {
   "cell_type": "markdown",
   "source": [
    "## Load the dataset"
   ],
   "metadata": {
    "collapsed": false,
    "pycharm": {
     "name": "#%% md\n",
     "is_executing": false
    }
   }
  },
  {
   "cell_type": "code",
   "execution_count": 193,
   "outputs": [],
   "source": [
    "input_file = \"data.csv\"\n",
    "df = pd.read_csv(input_file, header = 0)"
   ],
   "metadata": {
    "collapsed": false,
    "pycharm": {
     "name": "#%%\n",
     "is_executing": false
    }
   }
  },
  {
   "cell_type": "code",
   "execution_count": 194,
   "outputs": [],
   "source": [
    "dataset = df.values\n",
    "X = dataset[:,1:7]\n",
    "y = dataset[:,7]\n",
    "y = y.astype('int')"
   ],
   "metadata": {
    "collapsed": false,
    "pycharm": {
     "name": "#%%\n",
     "is_executing": false
    }
   }
  },
  {
   "cell_type": "code",
   "execution_count": 195,
   "outputs": [],
   "source": [
    "sc = preprocessing.StandardScaler()\n",
    "X_std = sc.fit_transform(X)\n"
   ],
   "metadata": {
    "collapsed": false,
    "pycharm": {
     "name": "#%%\n",
     "is_executing": false
    }
   }
  },
  {
   "cell_type": "markdown",
   "source": [
    "## Ensemble Methods"
   ],
   "metadata": {
    "collapsed": false,
    "pycharm": {
     "name": "#%% md\n"
    }
   }
  },
  {
   "cell_type": "markdown",
   "source": [
    "### Bagging"
   ],
   "metadata": {
    "collapsed": false,
    "pycharm": {
     "name": "#%% md\n"
    }
   }
  },
  {
   "cell_type": "markdown",
   "source": [
    "KNN:"
   ],
   "metadata": {
    "collapsed": false,
    "pycharm": {
     "name": "#%% md\n",
     "is_executing": false
    }
   }
  },
  {
   "cell_type": "code",
   "execution_count": 196,
   "outputs": [
    {
     "name": "stdout",
     "text": [
      "Train Accuracy: 86.19574468085024\nCross Accuracy: 67.44999999999996\n"
     ],
     "output_type": "stream"
    }
   ],
   "source": [
    "score_train = 0\n",
    "score_cross = 0\n",
    "for i in range(1000):\n",
    "    X_train, X_cross, y_train, y_cross = model_selection.train_test_split(X_std, y, train_size=.9, random_state=i)\n",
    "    bagging = ensemble.BaggingClassifier(neighbors.KNeighborsClassifier(n_neighbors=3, p=1), bootstrap=True, random_state=i)\n",
    "    bagging.fit(X_train, y_train)\n",
    "    score_train = score_train + bagging.score(X_train, y_train)\n",
    "    score_cross = score_cross + bagging.score(X_cross, y_cross)\n",
    "print(f\"Train Accuracy: {score_train / 10}\")\n",
    "print(f\"Cross Accuracy: {score_cross / 10}\")"
   ],
   "metadata": {
    "collapsed": false,
    "pycharm": {
     "name": "#%%\n",
     "is_executing": false
    }
   }
  },
  {
   "cell_type": "markdown",
   "source": [
    "SVC RBF:"
   ],
   "metadata": {
    "collapsed": false,
    "pycharm": {
     "name": "#%% md\n"
    }
   }
  },
  {
   "cell_type": "code",
   "execution_count": 197,
   "outputs": [
    {
     "name": "stdout",
     "text": [
      "Train Accuracy: 95.32553191489417\nCross Accuracy: 70.23333333333323\n"
     ],
     "output_type": "stream"
    }
   ],
   "source": [
    "score_train = 0\n",
    "score_cross = 0\n",
    "for i in range(1000):\n",
    "    X_train, X_cross, y_train, y_cross = model_selection.train_test_split(X_std, y, train_size=.9, random_state=i)\n",
    "    bagging = ensemble.BaggingClassifier(svm.SVC(kernel='rbf', C=38, gamma='scale'), bootstrap=True, random_state=i)\n",
    "    bagging.fit(X_train, y_train)\n",
    "    score_train = score_train + bagging.score(X_train, y_train)\n",
    "    score_cross = score_cross + bagging.score(X_cross, y_cross)\n",
    "print(f\"Train Accuracy: {score_train / 10}\")\n",
    "print(f\"Cross Accuracy: {score_cross / 10}\")"
   ],
   "metadata": {
    "collapsed": false,
    "pycharm": {
     "name": "#%%\n",
     "is_executing": false
    }
   }
  },
  {
   "cell_type": "markdown",
   "source": [
    "### Random Forest"
   ],
   "metadata": {
    "collapsed": false,
    "pycharm": {
     "name": "#%% md\n"
    }
   }
  },
  {
   "cell_type": "code",
   "execution_count": 202,
   "outputs": [
    {
     "name": "stdout",
     "text": [
      "Train Accuracy: 1.0\nCross Accuracy: 0.7\n"
     ],
     "output_type": "stream"
    }
   ],
   "source": [
    "score_train = 0\n",
    "score_cross = 0\n",
    "for i in range(1000):\n",
    "    X_train, X_cross, y_train, y_cross = model_selection.train_test_split(X_std, y, train_size=.9, random_state=i)\n",
    "    forest = ensemble.RandomForestClassifier(n_estimators=100, random_state=i)\n",
    "    forest.fit(X_train, y_train)\n",
    "    score_train = score_train + forest.score(X_train, y_train)\n",
    "    score_cross = score_cross + forest.score(X_cross, y_cross)\n",
    "print(f\"Train Accuracy: {score_train / 10}\")\n",
    "print(f\"Cross Accuracy: {score_cross / 10}\")"
   ],
   "metadata": {
    "collapsed": false,
    "pycharm": {
     "name": "#%%\n",
     "is_executing": false
    }
   }
  },
  {
   "cell_type": "code",
   "execution_count": 205,
   "outputs": [
    {
     "name": "stdout",
     "text": [
      "Train Accuracy: 100.0\nCross Accuracy: 69.68333333333324\n"
     ],
     "output_type": "stream"
    }
   ],
   "source": [
    "score_train = 0\n",
    "score_cross = 0\n",
    "for i in range(1000):\n",
    "    X_train, X_cross, y_train, y_cross = model_selection.train_test_split(X_std, y, train_size=.9, random_state=i)\n",
    "    forest = ensemble.ExtraTreesClassifier(n_estimators=100, random_state=i)\n",
    "    forest.fit(X_train, y_train)\n",
    "    score_train = score_train + forest.score(X_train, y_train)\n",
    "    score_cross = score_cross + forest.score(X_cross, y_cross)\n",
    "print(f\"Train Accuracy: {score_train / 10}\")\n",
    "print(f\"Cross Accuracy: {score_cross / 10}\")"
   ],
   "metadata": {
    "collapsed": false,
    "pycharm": {
     "name": "#%%\n",
     "is_executing": false
    }
   }
  },
  {
   "cell_type": "markdown",
   "source": [
    "### Boosting"
   ],
   "metadata": {
    "collapsed": false,
    "pycharm": {
     "name": "#%% md\n"
    }
   }
  },
  {
   "cell_type": "markdown",
   "source": [
    "AdaBoost:"
   ],
   "metadata": {
    "collapsed": false,
    "pycharm": {
     "name": "#%% md\n"
    }
   }
  },
  {
   "cell_type": "code",
   "execution_count": 210,
   "outputs": [
    {
     "name": "stdout",
     "text": [
      "Train Accuracy: 100.0\nCross Accuracy: 70.7833333333333\n"
     ],
     "output_type": "stream"
    }
   ],
   "source": [
    "score_train = 0\n",
    "score_cross = 0\n",
    "for i in range(1000):\n",
    "    X_train, X_cross, y_train, y_cross = model_selection.train_test_split(X_std, y, train_size=.9, random_state=i)\n",
    "    forest = ensemble.AdaBoostClassifier(n_estimators=100, random_state=i)\n",
    "    forest.fit(X_train, y_train)\n",
    "    score_train = score_train + forest.score(X_train, y_train)\n",
    "    score_cross = score_cross + forest.score(X_cross, y_cross)\n",
    "print(f\"Train Accuracy: {score_train / 10}\")\n",
    "print(f\"Cross Accuracy: {score_cross / 10}\")"
   ],
   "metadata": {
    "collapsed": false,
    "pycharm": {
     "name": "#%%\n",
     "is_executing": false
    }
   }
  }
 ],
 "metadata": {
  "language_info": {
   "codemirror_mode": {
    "name": "ipython",
    "version": 2
   },
   "file_extension": ".py",
   "mimetype": "text/x-python",
   "name": "python",
   "nbconvert_exporter": "python",
   "pygments_lexer": "ipython2",
   "version": "2.7.6"
  },
  "kernelspec": {
   "name": "python3",
   "language": "python",
   "display_name": "Python 3"
  },
  "pycharm": {
   "stem_cell": {
    "cell_type": "raw",
    "source": [],
    "metadata": {
     "collapsed": false
    }
   }
  }
 },
 "nbformat": 4,
 "nbformat_minor": 0
}