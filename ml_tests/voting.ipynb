{
 "cells": [
  {
   "cell_type": "code",
   "execution_count": 39,
   "metadata": {
    "collapsed": true,
    "pycharm": {
     "is_executing": false
    }
   },
   "outputs": [],
   "source": [
    "import pandas as pd\n",
    "from sklearn import preprocessing, model_selection, neighbors, ensemble, svm"
   ]
  },
  {
   "cell_type": "markdown",
   "source": [
    "## Load the dataset"
   ],
   "metadata": {
    "collapsed": false
   }
  },
  {
   "cell_type": "code",
   "execution_count": 40,
   "outputs": [],
   "source": [
    "input_file = \"data.csv\"\n",
    "df = pd.read_csv(input_file, header = 0)"
   ],
   "metadata": {
    "collapsed": false,
    "pycharm": {
     "name": "#%%\n",
     "is_executing": false
    }
   }
  },
  {
   "cell_type": "code",
   "execution_count": 41,
   "outputs": [],
   "source": [
    "dataset = df.values\n",
    "X = dataset[:,1:7]\n",
    "y = dataset[:,7]\n",
    "y = y.astype('int')"
   ],
   "metadata": {
    "collapsed": false,
    "pycharm": {
     "name": "#%%\n",
     "is_executing": false
    }
   }
  },
  {
   "cell_type": "code",
   "execution_count": 42,
   "outputs": [],
   "source": [
    "sc = preprocessing.StandardScaler()\n",
    "X_std = sc.fit_transform(X)"
   ],
   "metadata": {
    "collapsed": false,
    "pycharm": {
     "name": "#%%\n",
     "is_executing": false
    }
   }
  },
  {
   "cell_type": "code",
   "execution_count": 43,
   "outputs": [],
   "source": [
    "fs = [0.15940957, 0.13788721, 0.17424087, 0.16455568, 0.17854944, 0.18535723]\n",
    "X = X * fs"
   ],
   "metadata": {
    "collapsed": false,
    "pycharm": {
     "name": "#%%\n",
     "is_executing": false
    }
   }
  },
  {
   "cell_type": "markdown",
   "source": [
    "## Voting"
   ],
   "metadata": {
    "collapsed": false,
    "pycharm": {
     "name": "#%% md\n"
    }
   }
  },
  {
   "cell_type": "markdown",
   "source": [
    "Majority"
   ],
   "metadata": {
    "collapsed": false,
    "pycharm": {
     "name": "#%% md\n"
    }
   }
  },
  {
   "cell_type": "code",
   "execution_count": 44,
   "outputs": [
    {
     "name": "stdout",
     "text": [
      "Train Accuracy: 96.76595744680928\nCross Accuracy: 75.23333333333336\n"
     ],
     "output_type": "stream"
    }
   ],
   "source": [
    "\n",
    "score_train = 0\n",
    "score_cross = 0\n",
    "for i in range(1000):\n",
    "    X_train, X_cross, y_train, y_cross = model_selection.train_test_split(X_std, y, train_size=.9, random_state=i)\n",
    "    clf3 = svm.SVC(kernel='rbf', C=38, gamma='scale', random_state=i)\n",
    "    neigh = neighbors.KNeighborsClassifier(n_neighbors=3)\n",
    "    ada = ensemble.AdaBoostClassifier(n_estimators=100, random_state=i)\n",
    "    eclf = ensemble.VotingClassifier(estimators=[('rbf', clf3), ('knn', neigh), ('boost', ada)], voting='hard')\n",
    "    eclf.fit(X_train, y_train)\n",
    "    score_train = score_train + eclf.score(X_train, y_train)\n",
    "    score_cross = score_cross + eclf.score(X_cross, y_cross)\n",
    "print(f\"Train Accuracy: {score_train / 10}\")\n",
    "print(f\"Cross Accuracy: {score_cross / 10}\")"
   ],
   "metadata": {
    "collapsed": false,
    "pycharm": {
     "name": "#%%\n",
     "is_executing": false
    }
   }
  },
  {
   "cell_type": "markdown",
   "source": [
    "Probability"
   ],
   "metadata": {
    "collapsed": false,
    "pycharm": {
     "name": "#%% md\n",
     "is_executing": true
    }
   },
   "outputs": [
    {
     "name": "stdout",
     "text": [
      "Train Accuracy: 91.12127659574364\nCross Accuracy: 75.13333333333341\n"
     ],
     "output_type": "stream"
    }
   ]
  },
  {
   "cell_type": "code",
   "execution_count": 45,
   "outputs": [
    {
     "name": "stdout",
     "text": [
      "Train Accuracy: 91.12127659574364\nCross Accuracy: 75.13333333333341\n"
     ],
     "output_type": "stream"
    }
   ],
   "source": [
    "score_train = 0\n",
    "score_cross = 0\n",
    "for i in range(1000):\n",
    "    X_train, X_cross, y_train, y_cross = model_selection.train_test_split(X_std, y, train_size=.9, random_state=i)\n",
    "    clf3 = svm.SVC(kernel='rbf', C=38, gamma='scale', random_state=i, probability=True)\n",
    "    neigh = neighbors.KNeighborsClassifier(n_neighbors=3)\n",
    "    ada = ensemble.AdaBoostClassifier(n_estimators=100, random_state=i)\n",
    "    eclf = ensemble.VotingClassifier(estimators=[('rbf', clf3), ('knn', neigh), ('boost', ada)], voting='soft')\n",
    "    eclf.fit(X_train, y_train)\n",
    "    score_train = score_train + eclf.score(X_train, y_train)\n",
    "    score_cross = score_cross + eclf.score(X_cross, y_cross)\n",
    "print(f\"Train Accuracy: {score_train / 10}\")\n",
    "print(f\"Cross Accuracy: {score_cross / 10}\")"
   ],
   "metadata": {
    "collapsed": false,
    "pycharm": {
     "name": "#%%\n",
     "is_executing": false
    }
   }
  }
 ],
 "metadata": {
  "language_info": {
   "codemirror_mode": {
    "name": "ipython",
    "version": 2
   },
   "file_extension": ".py",
   "mimetype": "text/x-python",
   "name": "python",
   "nbconvert_exporter": "python",
   "pygments_lexer": "ipython2",
   "version": "2.7.6"
  },
  "kernelspec": {
   "name": "python3",
   "language": "python",
   "display_name": "Python 3"
  },
  "pycharm": {
   "stem_cell": {
    "cell_type": "raw",
    "source": [],
    "metadata": {
     "collapsed": false
    }
   }
  }
 },
 "nbformat": 4,
 "nbformat_minor": 0
}