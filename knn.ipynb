{
 "cells": [
  {
   "cell_type": "code",
   "execution_count": 43,
   "outputs": [],
   "source": [
    "import pandas as pd\n",
    "from sklearn import preprocessing, model_selection, neighbors"
   ],
   "metadata": {
    "collapsed": false,
    "pycharm": {
     "name": "#%%\n",
     "is_executing": false
    }
   }
  },
  {
   "cell_type": "markdown",
   "source": [
    "## Load the dataset"
   ],
   "metadata": {
    "collapsed": false
   }
  },
  {
   "cell_type": "code",
   "execution_count": 44,
   "outputs": [],
   "source": [
    "input_file = \"data.csv\"\n",
    "df = pd.read_csv(input_file, header = 0)"
   ],
   "metadata": {
    "collapsed": false,
    "pycharm": {
     "name": "#%%\n",
     "is_executing": false
    }
   }
  },
  {
   "cell_type": "code",
   "execution_count": 45,
   "outputs": [],
   "source": [
    "dataset = df.values\n",
    "X = dataset[:,1:7]\n",
    "y = dataset[:,7]\n",
    "y = y.astype('int')"
   ],
   "metadata": {
    "collapsed": false,
    "pycharm": {
     "name": "#%%\n",
     "is_executing": false
    }
   }
  },
  {
   "cell_type": "code",
   "execution_count": 46,
   "outputs": [],
   "source": [
    "sc = preprocessing.StandardScaler()\n",
    "X = sc.fit_transform(X)"
   ],
   "metadata": {
    "collapsed": false,
    "pycharm": {
     "name": "#%%\n",
     "is_executing": false
    }
   }
  },
  {
   "cell_type": "markdown",
   "metadata": {
    "collapsed": true,
    "pycharm": {
     "name": "#%% md\n"
    }
   },
   "source": [
    "## Apply K Nearest Neighbor"
   ]
  },
  {
   "cell_type": "code",
   "execution_count": 47,
   "outputs": [
    {
     "name": "stdout",
     "text": [
      "Train Accuracy: 85.00\nCross Accuracy: 69.58\n"
     ],
     "output_type": "stream"
    }
   ],
   "source": [
    "score_train = 0\n",
    "score_cross = 0\n",
    "for i in range(1000):\n",
    "    X_train, X_cross, y_train, y_cross = model_selection.train_test_split(X, y, train_size=.8, random_state=i)\n",
    "    neigh = neighbors.KNeighborsClassifier(n_neighbors=3, p=1)\n",
    "    neigh.fit(X_train, y_train)\n",
    "    score_train = score_train + neigh.score(X_train, y_train)\n",
    "    score_cross = score_cross + neigh.score(X_cross, y_cross)\n",
    "score_train = score_train / 10\n",
    "print('Train Accuracy: %.2f' % score_train)\n",
    "score_cross = score_cross / 10\n",
    "print('Cross Accuracy: %.2f' % score_cross)"
   ],
   "metadata": {
    "collapsed": false,
    "pycharm": {
     "name": "#%%\n",
     "is_executing": false
    }
   }
  },
  {
   "cell_type": "code",
   "execution_count": 48,
   "outputs": [
    {
     "data": {
      "text/plain": "array([[0.66666667, 0.33333333],\n       [0.66666667, 0.33333333],\n       [0.33333333, 0.66666667],\n       [0.        , 1.        ],\n       [1.        , 0.        ],\n       [0.66666667, 0.33333333],\n       [1.        , 0.        ],\n       [1.        , 0.        ],\n       [0.66666667, 0.33333333],\n       [0.66666667, 0.33333333],\n       [1.        , 0.        ]])"
     },
     "metadata": {},
     "output_type": "execute_result",
     "execution_count": 48
    }
   ],
   "source": [
    "neigh.predict_proba(X_cross)"
   ],
   "metadata": {
    "collapsed": false,
    "pycharm": {
     "name": "#%%\n",
     "is_executing": false
    }
   }
  },
  {
   "cell_type": "markdown",
   "source": [
    "## Analyze errors"
   ],
   "metadata": {
    "collapsed": false,
    "pycharm": {
     "name": "#%% md\n"
    }
   }
  },
  {
   "cell_type": "code",
   "execution_count": 49,
   "outputs": [
    {
     "data": {
      "text/plain": "0.6363636363636364"
     },
     "metadata": {},
     "output_type": "execute_result",
     "execution_count": 49
    }
   ],
   "source": [
    "X_train, X_cross, y_train, y_cross = model_selection.train_test_split(X, y, train_size=.8, random_state=1)\n",
    "neigh = neighbors.KNeighborsClassifier(n_neighbors=3)\n",
    "neigh.fit(X_train, y_train)\n",
    "neigh.score(X_cross, y_cross)"
   ],
   "metadata": {
    "collapsed": false,
    "pycharm": {
     "name": "#%%\n",
     "is_executing": false
    }
   }
  },
  {
   "cell_type": "code",
   "execution_count": 50,
   "outputs": [
    {
     "name": "stdout",
     "text": [
      "Actual   : [1 0 0 1 0 0 0 1 0 1 1]\nPredicted: [0 0 1 1 0 0 0 1 0 0 0]\n"
     ],
     "output_type": "stream"
    }
   ],
   "source": [
    "print('Actual   :', y_cross)\n",
    "print('Predicted:', neigh.predict(X_cross))"
   ],
   "metadata": {
    "collapsed": false,
    "pycharm": {
     "name": "#%%\n",
     "is_executing": false
    }
   }
  },
  {
   "cell_type": "code",
   "execution_count": 51,
   "outputs": [],
   "source": [
    "def find_video(x_values):\n",
    "    for v in range(len(X)):\n",
    "        if (X[v, :] == x_values).all():\n",
    "            return df.at[v, 'File name']\n",
    "    print('No such video', x_values)"
   ],
   "metadata": {
    "collapsed": false,
    "pycharm": {
     "name": "#%%\n",
     "is_executing": false
    }
   }
  },
  {
   "cell_type": "code",
   "execution_count": 52,
   "outputs": [
    {
     "name": "stdout",
     "text": [
      "['flame-spray-7.avi', 'flame-spray-45.avi', 'flame-spray-50.avi', 'flame-spray-20.avi']\n"
     ],
     "output_type": "stream"
    }
   ],
   "source": [
    "predict_cross = neigh.predict(X_cross)\n",
    "failures = []\n",
    "for i in range(len(X_cross)):\n",
    "    if predict_cross[i] != y_cross[i]:\n",
    "        failures.append(find_video(X_cross[i]))\n",
    "print(failures)"
   ],
   "metadata": {
    "collapsed": false,
    "pycharm": {
     "name": "#%%\n",
     "is_executing": false
    }
   }
  },
  {
   "cell_type": "markdown",
   "source": [
    "## Apply Radius Neighbor "
   ],
   "metadata": {
    "collapsed": false,
    "pycharm": {
     "name": "#%% md\n",
     "is_executing": false
    }
   }
  },
  {
   "cell_type": "code",
   "execution_count": 53,
   "outputs": [
    {
     "name": "stdout",
     "text": [
      "Train Accuracy: 78.88\nCross Accuracy: 65.22\n"
     ],
     "output_type": "stream"
    }
   ],
   "source": [
    "for i in range(1000):\n",
    "    X_train, X_cross, y_train, y_cross = model_selection.train_test_split(X, y, train_size=.8, random_state=i)\n",
    "    neigh = neighbors.RadiusNeighborsClassifier(radius=2.4)\n",
    "    neigh.fit(X_train, y_train)\n",
    "    score_train = score_train + neigh.score(X_train, y_train)\n",
    "    score_cross = score_cross + neigh.score(X_cross, y_cross)\n",
    "score_train = score_train / 10\n",
    "print('Train Accuracy: %.2f' % score_train)\n",
    "score_cross = score_cross / 10\n",
    "print('Cross Accuracy: %.2f' % score_cross)"
   ],
   "metadata": {
    "collapsed": false,
    "pycharm": {
     "name": "#%%\n",
     "is_executing": false
    }
   }
  },
  {
   "cell_type": "markdown",
   "source": [
    "## KNN with weights based on random forest"
   ],
   "metadata": {
    "collapsed": false,
    "pycharm": {
     "name": "#%% md\n"
    }
   }
  },
  {
   "cell_type": "code",
   "execution_count": 62,
   "outputs": [],
   "source": [
    "fs = [0.15940957, 0.13788721, 0.17424087, 0.16455568, 0.17854944, 0.18535723]\n",
    "X = X * fs"
   ],
   "metadata": {
    "collapsed": false,
    "pycharm": {
     "name": "#%%\n",
     "is_executing": false
    }
   }
  },
  {
   "cell_type": "code",
   "execution_count": 63,
   "outputs": [
    {
     "name": "stdout",
     "text": [
      "Train Accuracy: 86.18\nCross Accuracy: 70.55\n"
     ],
     "output_type": "stream"
    }
   ],
   "source": [
    "score_train = 0\n",
    "score_cross = 0\n",
    "for i in range(1000):\n",
    "    X_train, X_cross, y_train, y_cross = model_selection.train_test_split(X, y, train_size=.8, random_state=i)\n",
    "    neigh = neighbors.KNeighborsClassifier(n_neighbors=3, p=1)\n",
    "    neigh.fit(X_train, y_train)\n",
    "    score_train = score_train + neigh.score(X_train, y_train)\n",
    "    score_cross = score_cross + neigh.score(X_cross, y_cross)\n",
    "score_train = score_train / 10\n",
    "print('Train Accuracy: %.2f' % score_train)\n",
    "score_cross = score_cross / 10\n",
    "print('Cross Accuracy: %.2f' % score_cross)\n",
    "\n"
   ],
   "metadata": {
    "collapsed": false,
    "pycharm": {
     "name": "#%%\n",
     "is_executing": false
    }
   }
  }
 ],
 "metadata": {
  "language_info": {
   "codemirror_mode": {
    "name": "ipython",
    "version": 2
   },
   "file_extension": ".py",
   "mimetype": "text/x-python",
   "name": "python",
   "nbconvert_exporter": "python",
   "pygments_lexer": "ipython2",
   "version": "2.7.6"
  },
  "kernelspec": {
   "name": "python3",
   "language": "python",
   "display_name": "Python 3"
  },
  "pycharm": {
   "stem_cell": {
    "cell_type": "raw",
    "source": [],
    "metadata": {
     "collapsed": false
    }
   }
  }
 },
 "nbformat": 4,
 "nbformat_minor": 0
}